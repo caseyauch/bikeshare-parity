{
 "cells": [
  {
   "cell_type": "markdown",
   "id": "2e82327d",
   "metadata": {},
   "source": [
    "### Bikeshare & the Built Environment\n",
    "This Python notebook contains scripts used to pull, organize, and aggregate data for my thesis analysis. \n",
    "## Step 1: Importing, Cleaning, and Saving Data\n",
    "### 1.1 Download Trip History"
   ]
  },
  {
   "cell_type": "code",
   "execution_count": 25,
   "id": "702f680e",
   "metadata": {},
   "outputs": [],
   "source": [
    "station_locations.to_csv('station_locations_2015_2019.csv', index=False)"
   ]
  },
  {
   "cell_type": "markdown",
   "id": "31959870",
   "metadata": {},
   "source": [
    "### 1.7 Create geodataframe for stations"
   ]
  },
  {
   "cell_type": "code",
   "execution_count": 26,
   "id": "8f824f40",
   "metadata": {},
   "outputs": [],
   "source": [
    "stations_gdf = gpd.GeoDataFrame(station_locations, \n",
    "                                  geometry=gpd.points_from_xy(station_locations.longitude, station_locations.latitude))"
   ]
  },
  {
   "cell_type": "code",
   "execution_count": 27,
   "id": "b6570cf8",
   "metadata": {},
   "outputs": [
    {
     "data": {
      "text/html": [
       "<div>\n",
       "<style scoped>\n",
       "    .dataframe tbody tr th:only-of-type {\n",
       "        vertical-align: middle;\n",
       "    }\n",
       "\n",
       "    .dataframe tbody tr th {\n",
       "        vertical-align: top;\n",
       "    }\n",
       "\n",
       "    .dataframe thead th {\n",
       "        text-align: right;\n",
       "    }\n",
       "</style>\n",
       "<table border=\"1\" class=\"dataframe\">\n",
       "  <thead>\n",
       "    <tr style=\"text-align: right;\">\n",
       "      <th></th>\n",
       "      <th>station id</th>\n",
       "      <th>station name</th>\n",
       "      <th>latitude</th>\n",
       "      <th>longitude</th>\n",
       "      <th>geometry</th>\n",
       "    </tr>\n",
       "  </thead>\n",
       "  <tbody>\n",
       "    <tr>\n",
       "      <th>0</th>\n",
       "      <td>115</td>\n",
       "      <td>Porter Square Station</td>\n",
       "      <td>42.387995</td>\n",
       "      <td>-71.119084</td>\n",
       "      <td>POINT (-71.11908 42.38799)</td>\n",
       "    </tr>\n",
       "    <tr>\n",
       "      <th>1</th>\n",
       "      <td>80</td>\n",
       "      <td>MIT Stata Center at Vassar St / Main St</td>\n",
       "      <td>42.362131</td>\n",
       "      <td>-71.091156</td>\n",
       "      <td>POINT (-71.09116 42.36213)</td>\n",
       "    </tr>\n",
       "    <tr>\n",
       "      <th>2</th>\n",
       "      <td>91</td>\n",
       "      <td>One Kendall Square at Hampshire St / Portland St</td>\n",
       "      <td>42.366277</td>\n",
       "      <td>-71.091690</td>\n",
       "      <td>POINT (-71.09169 42.36628)</td>\n",
       "    </tr>\n",
       "    <tr>\n",
       "      <th>3</th>\n",
       "      <td>105</td>\n",
       "      <td>Lower Cambridgeport at Magazine St / Riverside Rd</td>\n",
       "      <td>42.357219</td>\n",
       "      <td>-71.113872</td>\n",
       "      <td>POINT (-71.11387 42.35722)</td>\n",
       "    </tr>\n",
       "    <tr>\n",
       "      <th>4</th>\n",
       "      <td>88</td>\n",
       "      <td>Inman Square at Vellucci Plaza / Hampshire St</td>\n",
       "      <td>42.374035</td>\n",
       "      <td>-71.101427</td>\n",
       "      <td>POINT (-71.10143 42.37403)</td>\n",
       "    </tr>\n",
       "    <tr>\n",
       "      <th>...</th>\n",
       "      <td>...</td>\n",
       "      <td>...</td>\n",
       "      <td>...</td>\n",
       "      <td>...</td>\n",
       "      <td>...</td>\n",
       "    </tr>\n",
       "    <tr>\n",
       "      <th>380</th>\n",
       "      <td>441</td>\n",
       "      <td>Sullivan Square</td>\n",
       "      <td>42.384452</td>\n",
       "      <td>-71.075149</td>\n",
       "      <td>POINT (-71.07515 42.38445)</td>\n",
       "    </tr>\n",
       "    <tr>\n",
       "      <th>381</th>\n",
       "      <td>443</td>\n",
       "      <td>Whittier St Health Center</td>\n",
       "      <td>42.332863</td>\n",
       "      <td>-71.092189</td>\n",
       "      <td>POINT (-71.09219 42.33286)</td>\n",
       "    </tr>\n",
       "    <tr>\n",
       "      <th>382</th>\n",
       "      <td>442</td>\n",
       "      <td>Hyde Park Ave at Walk Hill St</td>\n",
       "      <td>42.296067</td>\n",
       "      <td>-71.116012</td>\n",
       "      <td>POINT (-71.11601 42.29607)</td>\n",
       "    </tr>\n",
       "    <tr>\n",
       "      <th>383</th>\n",
       "      <td>446</td>\n",
       "      <td>700 Commonwealth Ave.</td>\n",
       "      <td>42.349609</td>\n",
       "      <td>-71.103915</td>\n",
       "      <td>POINT (-71.10392 42.34961)</td>\n",
       "    </tr>\n",
       "    <tr>\n",
       "      <th>384</th>\n",
       "      <td>445</td>\n",
       "      <td>Geiger Gibson Community Health Center</td>\n",
       "      <td>42.318865</td>\n",
       "      <td>-71.045368</td>\n",
       "      <td>POINT (-71.04537 42.31886)</td>\n",
       "    </tr>\n",
       "  </tbody>\n",
       "</table>\n",
       "<p>381 rows × 5 columns</p>\n",
       "</div>"
      ],
      "text/plain": [
       "     station id                                       station name   latitude  \\\n",
       "0           115                              Porter Square Station  42.387995   \n",
       "1            80            MIT Stata Center at Vassar St / Main St  42.362131   \n",
       "2            91   One Kendall Square at Hampshire St / Portland St  42.366277   \n",
       "3           105  Lower Cambridgeport at Magazine St / Riverside Rd  42.357219   \n",
       "4            88      Inman Square at Vellucci Plaza / Hampshire St  42.374035   \n",
       "..          ...                                                ...        ...   \n",
       "380         441                                    Sullivan Square  42.384452   \n",
       "381         443                          Whittier St Health Center  42.332863   \n",
       "382         442                      Hyde Park Ave at Walk Hill St  42.296067   \n",
       "383         446                              700 Commonwealth Ave.  42.349609   \n",
       "384         445              Geiger Gibson Community Health Center  42.318865   \n",
       "\n",
       "     longitude                    geometry  \n",
       "0   -71.119084  POINT (-71.11908 42.38799)  \n",
       "1   -71.091156  POINT (-71.09116 42.36213)  \n",
       "2   -71.091690  POINT (-71.09169 42.36628)  \n",
       "3   -71.113872  POINT (-71.11387 42.35722)  \n",
       "4   -71.101427  POINT (-71.10143 42.37403)  \n",
       "..         ...                         ...  \n",
       "380 -71.075149  POINT (-71.07515 42.38445)  \n",
       "381 -71.092189  POINT (-71.09219 42.33286)  \n",
       "382 -71.116012  POINT (-71.11601 42.29607)  \n",
       "383 -71.103915  POINT (-71.10392 42.34961)  \n",
       "384 -71.045368  POINT (-71.04537 42.31886)  \n",
       "\n",
       "[381 rows x 5 columns]"
      ]
     },
     "execution_count": 27,
     "metadata": {},
     "output_type": "execute_result"
    }
   ],
   "source": [
    "stations_gdf"
   ]
  },
  {
   "cell_type": "code",
   "execution_count": 28,
   "id": "540d60d8",
   "metadata": {
    "scrolled": false
   },
   "outputs": [
    {
     "data": {
      "text/plain": [
       "<AxesSubplot: >"
      ]
     },
     "execution_count": 28,
     "metadata": {},
     "output_type": "execute_result"
    },
    {
     "data": {
      "image/png": "[encoded data removed]",
      "text/plain": [
       "<Figure size 1200x1200 with 1 Axes>"
      ]
     },
     "metadata": {},
     "output_type": "display_data"
    }
   ],
   "source": [
    "stations_gdf.plot(figsize=(12,12))"
   ]
  },
  {
   "cell_type": "code",
   "execution_count": 29,
   "id": "a76945a9",
   "metadata": {},
   "outputs": [
    {
     "name": "stderr",
     "output_type": "stream",
     "text": [
      "C:\\Users\\casey\\AppData\\Local\\Temp\\ipykernel_12856\\2245661975.py:1: UserWarning: Column names longer than 10 characters will be truncated when saved to ESRI Shapefile.\n",
      "  stations_gdf.to_file(\"stations_0322.shp\")\n"
     ]
    }
   ],
   "source": [
    "stations_gdf.to_file(\"stations_0322.shp\")"
   ]
  },
  {
   "cell_type": "markdown",
   "id": "c88a4736",
   "metadata": {},
   "source": [
    "## Step 3: Aggregate Data\n",
    "### 3.1 Create functions to group data"
   ]
  },
  {
   "cell_type": "code",
   "execution_count": null,
   "id": "859d86b4",
   "metadata": {},
   "outputs": [],
   "source": [
    "def group(df, col, agg):\n",
    "    df1 = df.groupby(col).agg({agg:'count'}).rename(columns = {agg:'n'}).reset_index()\n",
    "    df1['%'] = (df1.n/sum(df1.n)*100).round(2)\n",
    "    return df1"
   ]
  },
  {
   "cell_type": "code",
   "execution_count": null,
   "id": "1e34aaa6",
   "metadata": {},
   "outputs": [],
   "source": [
    "def gender_group(df, col, agg):\n",
    "    if isinstance(col, list):\n",
    "        cols = col.copy()\n",
    "        cols += ['gender']\n",
    "    else: \n",
    "        cols = ['gender']\n",
    "        cols += [col]\n",
    "    df1 = df.groupby(col).agg({agg:'count'})\n",
    "    df1 = df1.rename(columns = {agg:'total'}).reset_index()\n",
    "    df1_f = df[df['gender']=='female']\n",
    "    df1_f = df1_f.groupby(cols).agg({agg:'count'})\n",
    "    df1_f = df1_f.rename(columns = {agg:'subtotal'}).reset_index()\n",
    "    df1_f['g%'] = df1_f.subtotal/sum(df1_f.subtotal)*100\n",
    "    df1_m = df[df['gender']=='male']\n",
    "    df1_m = df1_m.groupby(cols).agg({agg:'count'})\n",
    "    df1_m = df1_m.rename(columns = {agg:'subtotal'}).reset_index()\n",
    "    df1_m['g%'] = df1_m.subtotal/sum(df1_m.subtotal)*100\n",
    "    df1_g = pd.merge(df1_f, df1_m, how='outer')\n",
    "    df1_g = df1_g.merge(df1, how='left')\n",
    "    df1_g['t%'] = (df1_g.subtotal/df1_g.total)*100\n",
    "    return df1_g"
   ]
  },
  {
   "cell_type": "code",
   "execution_count": null,
   "id": "53298760",
   "metadata": {},
   "outputs": [],
   "source": [
    "def period_group(df, col, agg):\n",
    "    if isinstance(col, list):\n",
    "        cols = col.copy()\n",
    "        cols += ['period']\n",
    "    else: \n",
    "        cols = ['period']\n",
    "        cols += [col]\n",
    "    df1 = df.groupby(col).agg({agg:'count'})\n",
    "    df1 = df1.rename(columns = {agg:'total'}).reset_index()\n",
    "    df1_AM = df[df['period']=='AM']\n",
    "    df1_AM = df1_AM.groupby(cols).agg({agg:'count'})\n",
    "    df1_AM = df1_AM.rename(columns = {agg:'subtotal'}).reset_index()\n",
    "    df1_AM['p%'] = df1_AM.subtotal/sum(df1_AM.subtotal)*100\n",
    "    df1_midday = df[df['period']=='Midday']\n",
    "    df1_midday = df1_midday.groupby(cols).agg({agg:'count'})\n",
    "    df1_midday = df1_midday.rename(columns = {agg:'subtotal'}).reset_index()\n",
    "    df1_midday['p%'] = df1_midday.subtotal/sum(df1_midday.subtotal)*100\n",
    "    df1_PM = df[df['period']=='PM']\n",
    "    df1_PM = df1_PM.groupby(cols).agg({agg:'count'})\n",
    "    df1_PM = df1_PM.rename(columns = {agg:'subtotal'}).reset_index()\n",
    "    df1_PM['p%'] = df1_PM.subtotal/sum(df1_PM.subtotal)*100\n",
    "    df1_evening = df[df['period']=='Evening']\n",
    "    df1_evening = df1_evening.groupby(cols).agg({agg:'count'})\n",
    "    df1_evening = df1_evening.rename(columns = {agg:'subtotal'}).reset_index()\n",
    "    df1_evening['p%'] = df1_evening.subtotal/sum(df1_evening.subtotal)*100\n",
    "    df1_night = df[df['period']=='Night']\n",
    "    df1_night = df1_night.groupby(cols).agg({agg:'count'})\n",
    "    df1_night = df1_night.rename(columns = {agg:'subtotal'}).reset_index()\n",
    "    df1_night['p%'] = df1_night.subtotal/sum(df1_night.subtotal)*100\n",
    "    df1_p = pd.merge(df1_AM, df1_midday, how='outer')\n",
    "    df1_p = pd.merge(df1_p, df1_PM, how='outer')\n",
    "    df1_p = pd.merge(df1_p, df1_evening, how='outer')\n",
    "    df1_p = pd.merge(df1_p, df1_night, how='outer')\n",
    "    df1_p = df1_p.merge(df1, how='outer')\n",
    "    df1_p['t%'] = (df1_p.subtotal/df1_p.total)*100\n",
    "    return df1_p"
   ]
  },
  {
   "cell_type": "code",
   "execution_count": null,
   "id": "2ec0dbf8",
   "metadata": {},
   "outputs": [],
   "source": [
    "age_time_gender = period_group(df, ['age', 'gender'], 'age')"
   ]
  },
  {
   "cell_type": "code",
   "execution_count": null,
   "id": "fd22bc20",
   "metadata": {},
   "outputs": [],
   "source": [
    "p=sns.barplot(x=\"period\", y='p%', hue='age', order=['AM', 'Midday', 'PM', 'Evening', 'Night'], data=age_time_gender[age_time_gender.gender=='female'])\n",
    "p.set_title('Female Trips By Time of Day and Age')\n",
    "for container in p.containers:\n",
    "    p.bar_label(container, fmt='%.f%%')"
   ]
  },
  {
   "cell_type": "code",
   "execution_count": null,
   "id": "d5e7e48c",
   "metadata": {},
   "outputs": [],
   "source": [
    "p=sns.barplot(x=\"period\", y='p%', hue='age', order=['AM', 'Midday', 'PM', 'Evening', 'Night'], data=age_time_gender[age_time_gender.gender=='male'])\n",
    "p.set_title('Male Trips By Time of Day and Age')\n",
    "for container in p.containers:\n",
    "    p.bar_label(container, fmt='%.f%%')"
   ]
  },
  {
   "cell_type": "code",
   "execution_count": null,
   "id": "83ad4ed7",
   "metadata": {},
   "outputs": [],
   "source": [
    "age_time= period_group(df, 'age', 'age')\n",
    "p=sns.barplot(x=\"period\", y='p%', hue='age', order=['AM', 'Midday', 'PM', 'Evening', 'Night'], data=age_time)\n",
    "p.set_title('Trips By Time of Day and Age')\n",
    "for container in p.containers:\n",
    "    p.bar_label(container, fmt='%.f%%')"
   ]
  },
  {
   "cell_type": "markdown",
   "id": "4c04698b",
   "metadata": {},
   "source": [
    "### Gender"
   ]
  },
  {
   "cell_type": "code",
   "execution_count": null,
   "id": "86eaed25",
   "metadata": {},
   "outputs": [],
   "source": [
    "departures_df = df.groupby('start station id').agg({'gender':'count'}).reset_index().rename(columns = {'gender':'departures'})\n",
    "arrivals_df = df.groupby('end station id').agg({'gender':'count'}).reset_index().rename(columns = {'gender':'arrivals'})"
   ]
  },
  {
   "cell_type": "code",
   "execution_count": null,
   "id": "97c79057",
   "metadata": {},
   "outputs": [],
   "source": [
    "female_departures = df[df['gender']=='female'].groupby('start station id').agg({'gender':'count'}).rename(columns = {'gender':'female_departures'}).reset_index()\n",
    "female_arrivals = df[df['gender']=='female'].groupby('end station id').agg({'gender':'count'}).rename(columns = {'gender':'female_arrivals'}).reset_index()\n",
    "male_departures = df[df['gender']=='male'].groupby('start station id').agg({'gender':'count'}).rename(columns = {'gender':'male_departures'}).reset_index()\n",
    "male_arrivals = df[df['gender']=='male'].groupby('end station id').agg({'gender':'count'}).rename(columns = {'gender':'male_arrivals'}).reset_index()"
   ]
  },
  {
   "cell_type": "code",
   "execution_count": null,
   "id": "7cfaf72b",
   "metadata": {},
   "outputs": [],
   "source": [
    "arrivals_df = arrivals_df.merge(female_arrivals)\n",
    "arrivals_df = arrivals_df.merge(male_arrivals)\n",
    "arrivals_df['arrival_trip_parity'] = arrivals_df.female_arrivals/arrivals_df.male_arrivals"
   ]
  },
  {
   "cell_type": "code",
   "execution_count": null,
   "id": "02065156",
   "metadata": {},
   "outputs": [],
   "source": [
    "departures_df = departures_df.merge(female_departures)\n",
    "departures_df = departures_df.merge(male_departures)\n",
    "departures_df['departure_trip_parity'] = departures_df.female_departures/departures_df.male_departures"
   ]
  },
  {
   "cell_type": "code",
   "execution_count": null,
   "id": "03024844",
   "metadata": {},
   "outputs": [],
   "source": [
    "df2 = station_locations.merge(arrivals_df, how='left', right_on='end station id', left_on='station id').reset_index(drop=True)"
   ]
  },
  {
   "cell_type": "code",
   "execution_count": null,
   "id": "58cb58e9",
   "metadata": {},
   "outputs": [],
   "source": [
    "df3 = df2.merge(departures_df, how='left', right_on='start station id', left_on='station id')"
   ]
  },
  {
   "cell_type": "code",
   "execution_count": null,
   "id": "2662fc6a",
   "metadata": {},
   "outputs": [],
   "source": [
    "df4 = df3.drop(columns=[\"end station id\", 'start station id'])"
   ]
  },
  {
   "cell_type": "code",
   "execution_count": null,
   "id": "2f5ad093",
   "metadata": {},
   "outputs": [],
   "source": [
    "df4.to_csv('../New Data Tables/stations_gender_parity.csv', index=False)"
   ]
  },
  {
   "cell_type": "code",
   "execution_count": null,
   "id": "6c670b4f",
   "metadata": {},
   "outputs": [],
   "source": [
    "sns.countplot(x=df[\"gender\"])"
   ]
  },
  {
   "cell_type": "code",
   "execution_count": null,
   "id": "9fd9ab09",
   "metadata": {},
   "outputs": [],
   "source": [
    "sns.countplot(x=df[\"age\"], order=['Gen Z', 'Millenials', 'Generation X', 'Baby Boomers', \"Silent Generation\", \"Other\"])"
   ]
  },
  {
   "cell_type": "code",
   "execution_count": null,
   "id": "edd221e6",
   "metadata": {},
   "outputs": [],
   "source": [
    "p=sns.countplot(x='age', hue='gender', order=['Gen Z', 'Millenials', 'Generation X', 'Baby Boomers', \"Silent Generation\", \"Other\"], data = df)\n",
    "p.set_title('Trips By Age and Gender')"
   ]
  },
  {
   "cell_type": "code",
   "execution_count": null,
   "id": "5c39a268",
   "metadata": {},
   "outputs": [],
   "source": [
    "trips_by_age_gender=gender_group(df, 'age', 'age')\n",
    "trips_by_age_gender"
   ]
  },
  {
   "cell_type": "code",
   "execution_count": null,
   "id": "b47d29e6",
   "metadata": {},
   "outputs": [],
   "source": [
    "p = sns.barplot(x='age', y='t%', hue='gender', order=['Gen Z', 'Millenials', 'Generation X', 'Baby Boomers', \"Silent Generation\", \"Other\"], data = trips_by_age_gender)\n",
    "p.set_title('Trip Parity By Age')\n",
    "for container in p.containers:\n",
    "    p.bar_label(container, fmt='%.f%%')"
   ]
  },
  {
   "cell_type": "code",
   "execution_count": null,
   "id": "b1f1721e",
   "metadata": {},
   "outputs": [],
   "source": [
    "p = sns.barplot(x='age', y='g%', hue='gender', order=['Gen Z', 'Millenials', 'Generation X', 'Baby Boomers', \"Silent Generation\", \"Other\"], data = trips_by_age_gender)\n",
    "p.set_title('Trips By Age and Gender')\n",
    "for container in p.containers:\n",
    "    p.bar_label(container, fmt='%.f%%')"
   ]
  },
  {
   "cell_type": "code",
   "execution_count": null,
   "id": "0c740dc1",
   "metadata": {},
   "outputs": [],
   "source": [
    "sns.countplot(x=\"period\", hue='gender', order=['AM', 'Midday', 'PM', 'Evening', 'Night'], data=df)"
   ]
  },
  {
   "cell_type": "code",
   "execution_count": null,
   "id": "7896a855",
   "metadata": {},
   "outputs": [],
   "source": [
    "trips_by_time_gender=gender_group(df, 'period', 'period')\n",
    "trips_by_time_gender"
   ]
  },
  {
   "cell_type": "code",
   "execution_count": null,
   "id": "89867b87",
   "metadata": {},
   "outputs": [],
   "source": [
    "p = sns.barplot(x='period', y='t%', hue='gender', order=['AM', 'Midday', 'PM', 'Evening', 'Night'], data = trips_by_time_gender)\n",
    "p.set_title('Trip Parity by Time of Day')\n",
    "for container in p.containers:\n",
    "    p.bar_label(container, fmt='%.f%%')"
   ]
  },
  {
   "cell_type": "code",
   "execution_count": null,
   "id": "9f15dcde",
   "metadata": {},
   "outputs": [],
   "source": [
    "p = sns.barplot(x='period', y='g%', hue='gender', order=['AM', 'Midday', 'PM', 'Evening', 'Night'], data = trips_by_time_gender)\n",
    "p.set_title('Percent of Trips By Gender By Time of Day')\n",
    "for container in p.containers:\n",
    "    p.bar_label(container, fmt='%.f%%')"
   ]
  },
  {
   "cell_type": "code",
   "execution_count": null,
   "id": "977c99e3",
   "metadata": {},
   "outputs": [],
   "source": [
    "trips_by_time_gender_age=gender_group(df, ['period', 'age'], 'period')\n",
    "trips_by_time_gender_age"
   ]
  },
  {
   "cell_type": "code",
   "execution_count": null,
   "id": "645450f0",
   "metadata": {},
   "outputs": [],
   "source": [
    "p = sns.barplot(x='period', y='t%', hue='gender', order=['AM', 'Midday', 'PM', 'Evening', 'Night'], data = trips_by_time_gender_age)\n",
    "p.set_title('Trips By Time of Day and Gender')\n",
    "for container in p.containers:\n",
    "    p.bar_label(container, fmt='%.f%%')"
   ]
  },
  {
   "cell_type": "code",
   "execution_count": null,
   "id": "8337dcf0",
   "metadata": {},
   "outputs": [],
   "source": [
    "def day_period(df):\n",
    "    list = []\n",
    "    group_names = {\n",
    "            1: \"Weekday\", \n",
    "            2: \"Weekend\"\n",
    "        }\n",
    "    for ind in df.index:\n",
    "        count=1\n",
    "        day = df.iloc[ind,18]\n",
    "        day = int(day)\n",
    "        if day in [6,7]:\n",
    "            x = group_names[2]\n",
    "        else: \n",
    "            x = group_names[1]\n",
    "        list.append(x)\n",
    "    return list"
   ]
  },
  {
   "cell_type": "code",
   "execution_count": null,
   "id": "93c52ebf",
   "metadata": {},
   "outputs": [],
   "source": [
    "df['day'] = day_period(df)"
   ]
  },
  {
   "cell_type": "code",
   "execution_count": null,
   "id": "e2b996bc",
   "metadata": {},
   "outputs": [],
   "source": [
    "gender_day = gender_group(df, 'day', 'day')\n",
    "p=sns.barplot(x=\"day\", y='t%', hue='gender', data=gender_day)\n",
    "p.set_title('Trips By Day of Week')\n",
    "for container in p.containers:\n",
    "    p.bar_label(container, fmt='%.f%%')"
   ]
  },
  {
   "cell_type": "code",
   "execution_count": null,
   "id": "fc1f41bf",
   "metadata": {},
   "outputs": [],
   "source": [
    "df1 = df.groupby(['day']).agg({'day':'count'}).rename(columns = {'day':'n'}).reset_index()\n",
    "df1"
   ]
  },
  {
   "cell_type": "code",
   "execution_count": null,
   "id": "de7da002",
   "metadata": {},
   "outputs": [],
   "source": [
    "sns.barplot(x=\"day\", y=\"n\", hue='gender', data=df1)"
   ]
  },
  {
   "cell_type": "markdown",
   "id": "09d0de47",
   "metadata": {},
   "source": [
    "# Exploratory Data Analysis"
   ]
  },
  {
   "cell_type": "code",
   "execution_count": null,
   "id": "dee7d65c",
   "metadata": {},
   "outputs": [],
   "source": [
    "df = pd.read_csv('bluebikes_trips_2015_2019.csv')"
   ]
  },
  {
   "cell_type": "code",
   "execution_count": null,
   "id": "c012c2f6",
   "metadata": {},
   "outputs": [],
   "source": [
    "df1 = df.groupby('gender').agg({'gender':'count'}).rename(columns = {'gender':'trips'}).reset_index()\n",
    "df1['portion'] = df1['trips']/(len(df))*100\n",
    "df1\n",
    "# 1,735,298 trips by women, accounting for 26 percent of all bikeshare trips in 2015-2019"
   ]
  },
  {
   "cell_type": "code",
   "execution_count": null,
   "id": "6a8d34fc",
   "metadata": {},
   "outputs": [],
   "source": [
    "p = sns.barplot(x='gender', y='portion', data = df1)\n",
    "p.set_title('Network-Wide Trip Parity')\n",
    "for container in p.containers:\n",
    "    p.bar_label(container, fmt='%.f%%')"
   ]
  },
  {
   "cell_type": "markdown",
   "id": "2e1be101",
   "metadata": {},
   "source": [
    "## Temporal Analysis"
   ]
  },
  {
   "cell_type": "code",
   "execution_count": null,
   "id": "695a4986",
   "metadata": {},
   "outputs": [],
   "source": [
    "# count the number of trips start by each hour\n",
    "o_trip_hour = df.groupby(['o_dayofweek','o_hour']).agg({'o_hour':'count'}).rename(columns = {'o_hour':'total'}).reset_index()"
   ]
  },
  {
   "cell_type": "code",
   "execution_count": null,
   "id": "01fd1fdf",
   "metadata": {},
   "outputs": [],
   "source": [
    "o_trip_hour['h_week']=o_trip_hour.index"
   ]
  },
  {
   "cell_type": "code",
   "execution_count": null,
   "id": "7de82c20",
   "metadata": {},
   "outputs": [],
   "source": [
    "o_trip_hour"
   ]
  },
  {
   "cell_type": "code",
   "execution_count": null,
   "id": "61d841ee",
   "metadata": {},
   "outputs": [],
   "source": [
    "ax = sns.lineplot(x=\"h_week\", y=\"total\", data=o_trip_hour).set(title='Trips by Hour of the Week')"
   ]
  },
  {
   "cell_type": "markdown",
   "id": "a31d3126",
   "metadata": {},
   "source": [
    "### Gender Analysis"
   ]
  },
  {
   "cell_type": "code",
   "execution_count": null,
   "id": "dbede9a1",
   "metadata": {},
   "outputs": [],
   "source": [
    "# count the number of trips start by each hour\n",
    "o_trip_hour2 = df.groupby(['o_dayofweek','o_hour', 'gender']).agg({'o_hour':'count'}).rename(columns = {'o_hour':'trips'}).reset_index()"
   ]
  },
  {
   "cell_type": "code",
   "execution_count": null,
   "id": "0b4b8a05",
   "metadata": {},
   "outputs": [],
   "source": [
    "x = range(0,168)\n",
    "o_trip_hour2['h_week'] = np.repeat(x,2)"
   ]
  },
  {
   "cell_type": "code",
   "execution_count": null,
   "id": "8714048a",
   "metadata": {},
   "outputs": [],
   "source": [
    "o_trip_hour = o_trip_hour.merge(o_trip_hour2)\n",
    "o_trip_hour[:5]"
   ]
  },
  {
   "cell_type": "markdown",
   "id": "a85300c8",
   "metadata": {},
   "source": [
    "<b> Trips by women have morning and afternoon peaks during the weekdays. Far fewer women are riding on the weekends than weekdays. Trips by men have even steeper weekday peaks in the AM and PM. Midday trips are about the same, regardless of the day of the week for men. "
   ]
  },
  {
   "cell_type": "code",
   "execution_count": null,
   "id": "3d0a22bb",
   "metadata": {
    "scrolled": true
   },
   "outputs": [],
   "source": [
    "ax = sns.lineplot(x=\"o_hour\", y=\"trips\", hue='o_dayofweek', data=o_trip_hour[o_trip_hour['gender']=='female']).set(title='Female Trips by the Hour of the Day and Day of the Week')"
   ]
  },
  {
   "cell_type": "code",
   "execution_count": null,
   "id": "e5b4896c",
   "metadata": {},
   "outputs": [],
   "source": [
    "ax = sns.lineplot(x=\"o_hour\", y=\"trips\", hue='o_dayofweek', data=o_trip_hour[o_trip_hour['gender']=='male']).set(title='Male Trips by the Hour of the Day and Day of the Week')"
   ]
  },
  {
   "cell_type": "code",
   "execution_count": null,
   "id": "ee856aac",
   "metadata": {},
   "outputs": [],
   "source": [
    "ax = sns.lineplot(x=\"h_week\", y=\"trips\", hue='gender', data=o_trip_hour).set(title='Trips by the Hour of the Week by Gender')"
   ]
  },
  {
   "cell_type": "code",
   "execution_count": null,
   "id": "6586a73c",
   "metadata": {},
   "outputs": [],
   "source": [
    " o_trip_hour['portion'] = o_trip_hour['trips']/o_trip_hour['total']"
   ]
  },
  {
   "cell_type": "code",
   "execution_count": null,
   "id": "7016fea5",
   "metadata": {},
   "outputs": [],
   "source": [
    "trip_parity = []\n",
    "for x in o_trip_hour.index:\n",
    "    if o_trip_hour.loc[x,'gender'] == 'female': \n",
    "        female = o_trip_hour.loc[x,'trips']\n",
    "        y=x+1\n",
    "        male = o_trip_hour.loc[y,'trips']\n",
    "        trip_parity.append(female/male)\n",
    "    elif o_trip_hour.loc[x,'gender'] == 'male': \n",
    "        male = o_trip_hour.loc[x,'trips']\n",
    "        y=x-1\n",
    "        female = o_trip_hour.loc[y,'trips']\n",
    "        trip_parity.append(female/male)\n",
    "o_trip_hour['trip_parity'] = trip_parity"
   ]
  },
  {
   "cell_type": "code",
   "execution_count": null,
   "id": "7b8a9a95",
   "metadata": {},
   "outputs": [],
   "source": [
    "ax = sns.lineplot(x=\"o_hour\", y=\"trips\", hue='gender', data=o_trip_hour)"
   ]
  },
  {
   "cell_type": "markdown",
   "id": "ca29df48",
   "metadata": {},
   "source": [
    "<b>Trip parity rates are highest on during the AM peak of weekdays and on the weekend. "
   ]
  },
  {
   "cell_type": "code",
   "execution_count": null,
   "id": "6f6a7c2f",
   "metadata": {},
   "outputs": [],
   "source": [
    "ax = sns.lineplot(x=\"h_week\", y=\"trip_parity\", data=o_trip_hour).set(title='Trip Parity by Hour of the Week')"
   ]
  },
  {
   "cell_type": "markdown",
   "id": "583db2e1",
   "metadata": {},
   "source": [
    "### Age Analysis"
   ]
  },
  {
   "cell_type": "code",
   "execution_count": null,
   "id": "966e880e",
   "metadata": {},
   "outputs": [],
   "source": [
    "# count the number of trips start by each hour\n",
    "o_trip_hour3 = df.groupby(['o_dayofweek','o_hour', 'age', 'gender']).agg({'o_hour':'count'}).rename(columns = {'o_hour':'trips'}).reset_index()"
   ]
  },
  {
   "cell_type": "code",
   "execution_count": null,
   "id": "1ead497e",
   "metadata": {},
   "outputs": [],
   "source": [
    "o_trip_hour3"
   ]
  },
  {
   "cell_type": "code",
   "execution_count": null,
   "id": "28946923",
   "metadata": {},
   "outputs": [],
   "source": [
    "o_trip_hour3 = o_trip_hour.merge(o_trip_hour3)\n",
    "o_trip_hour3[:5]"
   ]
  },
  {
   "cell_type": "code",
   "execution_count": null,
   "id": "448af9a3",
   "metadata": {},
   "outputs": [],
   "source": [
    "ax = sns.lineplot(x=\"o_hour\", y=\"trips\", hue='o_dayofweek', data=o_trip_hour3[o_trip_hour3['age']=='Millenials']).set(title='Millenial Trips by the Hour of the Day and Day of the Week')\n",
    "plt.yscale('log')"
   ]
  },
  {
   "cell_type": "code",
   "execution_count": null,
   "id": "2ff36eae",
   "metadata": {
    "scrolled": true
   },
   "outputs": [],
   "source": [
    "ax = sns.lineplot(x=\"o_hour\", y=\"trips\", hue=o_trip_hour3[['o_dayofweek', 'gender']].apply(tuple, axis=1), data=o_trip_hour3[o_trip_hour3['age']=='Millenials']).set(title='Millenial Trips by the Hour of the Day and Day of the Week')"
   ]
  },
  {
   "cell_type": "code",
   "execution_count": null,
   "id": "3ac2f43b",
   "metadata": {},
   "outputs": [],
   "source": [
    "ax = sns.lineplot(x=\"o_hour\", y=\"trips\", hue='o_dayofweek', data=o_trip_hour3[o_trip_hour3['age']=='Generation X']).set(title='Generation X Trips by the Hour of the Day and Day of the Week')"
   ]
  },
  {
   "cell_type": "code",
   "execution_count": null,
   "id": "33fae952",
   "metadata": {},
   "outputs": [],
   "source": [
    "len(o_trip_hour3[o_trip_hour3['age']=='Silent Generation'])"
   ]
  },
  {
   "cell_type": "code",
   "execution_count": null,
   "id": "8b504c5c",
   "metadata": {},
   "outputs": [],
   "source": [
    "ax = sns.lineplot(x=\"o_hour\", y=\"trips\", hue='o_dayofweek', data=o_trip_hour3[o_trip_hour3['age']=='Silent Generation']).set(title='Silent Generation Trips by the Hour of the Day and Day of the Week')"
   ]
  },
  {
   "cell_type": "code",
   "execution_count": null,
   "id": "25cdb9fe",
   "metadata": {},
   "outputs": [],
   "source": [
    "ax = sns.lineplot(x=\"o_hour\", y=\"trips\", hue='o_dayofweek', data=o_trip_hour3[o_trip_hour3['age']=='Baby Boomers']).set(title='Baby Boomers Trips by the Hour of the Day and Day of the Week')"
   ]
  },
  {
   "cell_type": "code",
   "execution_count": null,
   "id": "e3fce4ef",
   "metadata": {},
   "outputs": [],
   "source": [
    "df1 = df.groupby('age').agg({'age':'count'}).rename(columns = {'age':'total'})\n",
    "df1['portion'] = df1['total']/(len(df))\n",
    "df1\n",
    "# Millenials rode 62% of bikeshare trips in 2015-2019"
   ]
  },
  {
   "cell_type": "code",
   "execution_count": null,
   "id": "a0ee4a6b",
   "metadata": {},
   "outputs": [],
   "source": [
    "# count the number of trips start by each hour\n",
    "o_trip_hour3 = df.groupby(['o_dayofweek','o_hour']).agg({'o_hour':'count'}).rename(columns = {'o_hour':'total'}).reset_index()"
   ]
  },
  {
   "cell_type": "code",
   "execution_count": null,
   "id": "29fd20c2",
   "metadata": {},
   "outputs": [],
   "source": [
    "ax = sns.lineplot(x=\"o_hour\", y=\"trips\", hue='age', data=o_trip_hour3)"
   ]
  },
  {
   "cell_type": "code",
   "execution_count": null,
   "id": "251c01c7",
   "metadata": {},
   "outputs": [],
   "source": [
    "o_trip_hour3['portion_day'] = o_trip_hour3['trips']/o_trip_hour3['total']"
   ]
  },
  {
   "cell_type": "code",
   "execution_count": null,
   "id": "4d7b7576",
   "metadata": {},
   "outputs": [],
   "source": [
    "ax = sns.lineplot(x=\"o_hour\", y=\"portion_day\", hue='age', data=o_trip_hour3)"
   ]
  },
  {
   "cell_type": "code",
   "execution_count": null,
   "id": "5b554874",
   "metadata": {},
   "outputs": [],
   "source": [
    "o_trip_hour3['h_week']=o_trip_hour3.index"
   ]
  },
  {
   "cell_type": "code",
   "execution_count": null,
   "id": "cb44f9a5",
   "metadata": {},
   "outputs": [],
   "source": [
    "# count the number of trips start by each hour\n",
    "o_trip_hour4 = df.groupby(['o_dayofweek','o_hour', 'age']).agg({'o_hour':'count'}).rename(columns = {'o_hour':'trips'}).reset_index()"
   ]
  },
  {
   "cell_type": "code",
   "execution_count": null,
   "id": "402865e1",
   "metadata": {},
   "outputs": [],
   "source": [
    "o_trip_hour4"
   ]
  },
  {
   "cell_type": "code",
   "execution_count": null,
   "id": "18d5fd6e",
   "metadata": {},
   "outputs": [],
   "source": [
    "o_trip_hour3 = o_trip_hour3.merge(o_trip_hour4)\n",
    "o_trip_hour3[:5]"
   ]
  },
  {
   "cell_type": "code",
   "execution_count": null,
   "id": "d6fcb324",
   "metadata": {
    "scrolled": true
   },
   "outputs": [],
   "source": [
    "ax = sns.lineplot(x=\"o_hour\", y=\"trips\", hue='o_dayofweek', data=o_trip_hour[o_trip_hour3['age']=='Baby Boomers'])"
   ]
  },
  {
   "cell_type": "code",
   "execution_count": null,
   "id": "729282df",
   "metadata": {},
   "outputs": [],
   "source": [
    "ax = sns.lineplot(x=\"o_hour\", y=\"trips\", hue='o_dayofweek', data=o_trip_hour[o_trip_hour3['age']=='Millenials'])"
   ]
  },
  {
   "cell_type": "code",
   "execution_count": null,
   "id": "0b294fde",
   "metadata": {},
   "outputs": [],
   "source": [
    "ax = sns.lineplot(x=\"o_hour\", y=\"trips\", hue='o_dayofweek', data=o_trip_hour[o_trip_hour3['age']=='Generation X'])"
   ]
  },
  {
   "cell_type": "code",
   "execution_count": null,
   "id": "112033ed",
   "metadata": {},
   "outputs": [],
   "source": [
    "ax = sns.lineplot(x=\"o_hour\", y=\"trips\", hue='o_dayofweek', data=o_trip_hour[o_trip_hour3['age']=='Gen Z'])"
   ]
  },
  {
   "cell_type": "code",
   "execution_count": null,
   "id": "58da99b5",
   "metadata": {},
   "outputs": [],
   "source": [
    "ax = sns.lineplot(x=\"h_week\", y=\"trips\", hue='age', data=o_trip_hour3).set(title='Trips by the Hour of the Week by Age Group')"
   ]
  },
  {
   "cell_type": "code",
   "execution_count": null,
   "id": "6dcc19fc",
   "metadata": {},
   "outputs": [],
   "source": [
    "o_trip_hour5 = o_trip_hour3.merge(df1, on='age', how='left')\n",
    "o_trip_hour5.head(3)"
   ]
  },
  {
   "cell_type": "code",
   "execution_count": null,
   "id": "91319544",
   "metadata": {},
   "outputs": [],
   "source": [
    "o_trip_hour5['portion'] = o_trip_hour5['trips']/o_trip_hour5['total_y']"
   ]
  },
  {
   "cell_type": "code",
   "execution_count": null,
   "id": "1071fd28",
   "metadata": {},
   "outputs": [],
   "source": [
    "ax = sns.lineplot(x=\"h_week\", y=\"portion\", hue='age', data=o_trip_hour5)\n",
    "plt.yscale('log')"
   ]
  },
  {
   "cell_type": "code",
   "execution_count": null,
   "id": "679f2d50",
   "metadata": {},
   "outputs": [],
   "source": [
    "ax = sns.lineplot(x=\"o_hour\", y=\"trips\", hue='age', data=o_trip_hour5)"
   ]
  },
  {
   "cell_type": "code",
   "execution_count": null,
   "id": "420967cb",
   "metadata": {},
   "outputs": [],
   "source": []
  }
 ],
 "metadata": {
  "kernelspec": {
   "display_name": "Python 3 (ipykernel)",
   "language": "python",
   "name": "python3"
  },
  "language_info": {
   "codemirror_mode": {
    "name": "ipython",
    "version": 3
   },
   "file_extension": ".py",
   "mimetype": "text/x-python",
   "name": "python",
   "nbconvert_exporter": "python",
   "pygments_lexer": "ipython3",
   "version": "3.9.12"
  }
 },
 "nbformat": 4,
 "nbformat_minor": 5
}
