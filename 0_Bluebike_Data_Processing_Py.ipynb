{
 "cells": [
  {
   "cell_type": "markdown",
   "id": "2e82327d",
   "metadata": {},
   "source": [
    "# Bikeshare & the Built Environment\n",
    "This Python notebook contains scripts used to pull, organize, and aggregate data for my thesis analysis. \n",
    "## Step 1: Importing, Cleaning, and Saving Data\n",
    "### 1.1 Download Trip History"
   ]
  },
  {
   "cell_type": "code",
   "execution_count": 2,
   "id": "3cb2c655",
   "metadata": {},
   "outputs": [],
   "source": [
    "import requests, zipfile, io, pandas as pd, seaborn as sns, numpy as np, geopandas as gpd, matplotlib.pyplot as plt\n",
    "from shapely.geometry import point"
   ]
  },
  {
   "cell_type": "code",
   "execution_count": 124,
   "id": "991a81ab",
   "metadata": {},
   "outputs": [],
   "source": [
    "import ssl\n",
    "ssl._create_default_https_context = ssl._create_unverified_context"
   ]
  },
  {
   "cell_type": "code",
   "execution_count": 125,
   "id": "30727061",
   "metadata": {},
   "outputs": [],
   "source": [
    "trips = {\n",
    "'https://s3.amazonaws.com/hubway-data/201501-hubway-tripdata.zip':'trips_201501',\n",
    "'https://s3.amazonaws.com/hubway-data/201502-hubway-tripdata.zip':'trips_201502',\n",
    "'https://s3.amazonaws.com/hubway-data/201503-hubway-tripdata.zip':'trips_201503',\n",
    "'https://s3.amazonaws.com/hubway-data/201504-hubway-tripdata.zip':'trips_201504',\n",
    "'https://s3.amazonaws.com/hubway-data/201505-hubway-tripdata.zip':'trips_201505',\n",
    "'https://s3.amazonaws.com/hubway-data/201506-hubway-tripdata.zip':'trips_201506',\n",
    "'https://s3.amazonaws.com/hubway-data/201507-hubway-tripdata.zip':'trips_201507',\n",
    "'https://s3.amazonaws.com/hubway-data/201508-hubway-tripdata.zip':'trips_201508',\n",
    "'https://s3.amazonaws.com/hubway-data/201509-hubway-tripdata.zip':'trips_201509',\n",
    "'https://s3.amazonaws.com/hubway-data/201510-hubway-tripdata.zip':'trips_201510',\n",
    "'https://s3.amazonaws.com/hubway-data/201511-hubway-tripdata.zip':'trips_201511',\n",
    "'https://s3.amazonaws.com/hubway-data/201512-hubway-tripdata.zip':'trips_201512',\n",
    "'https://s3.amazonaws.com/hubway-data/201601-hubway-tripdata.zip':'trips_201601',\n",
    "'https://s3.amazonaws.com/hubway-data/201602-hubway-tripdata.zip':'trips_201602',\n",
    "'https://s3.amazonaws.com/hubway-data/201603-hubway-tripdata.zip':'trips_201603',\n",
    "'https://s3.amazonaws.com/hubway-data/201604-hubway-tripdata.zip':'trips_201604',\n",
    "'https://s3.amazonaws.com/hubway-data/201605-hubway-tripdata.zip':'trips_201605',\n",
    "'https://s3.amazonaws.com/hubway-data/201606-hubway-tripdata.zip':'trips_201606',\n",
    "'https://s3.amazonaws.com/hubway-data/201607-hubway-tripdata.zip':'trips_201607',\n",
    "'https://s3.amazonaws.com/hubway-data/201608-hubway-tripdata.zip':'trips_201608',\n",
    "'https://s3.amazonaws.com/hubway-data/201609-hubway-tripdata.zip':'trips_201609',\n",
    "'https://s3.amazonaws.com/hubway-data/201610-hubway-tripdata.zip':'trips_201610',\n",
    "'https://s3.amazonaws.com/hubway-data/201611-hubway-tripdata.zip':'trips_201611',\n",
    "'https://s3.amazonaws.com/hubway-data/201612-hubway-tripdata.zip':'trips_201612',\n",
    "'https://s3.amazonaws.com/hubway-data/201701-hubway-tripdata.zip':'trips_201701',\n",
    "'https://s3.amazonaws.com/hubway-data/201702-hubway-tripdata.zip':'trips_201702',\n",
    "'https://s3.amazonaws.com/hubway-data/201703-hubway-tripdata.zip':'trips_201703',\n",
    "'https://s3.amazonaws.com/hubway-data/201704-hubway-tripdata.zip':'trips_201704',\n",
    "'https://s3.amazonaws.com/hubway-data/201705-hubway-tripdata.zip':'trips_201705',\n",
    "'https://s3.amazonaws.com/hubway-data/201706-hubway-tripdata.zip':'trips_201706',\n",
    "'https://s3.amazonaws.com/hubway-data/201707-hubway-tripdata.zip':'trips_201707',\n",
    "'https://s3.amazonaws.com/hubway-data/201708-hubway-tripdata.zip':'trips_201708',\n",
    "'https://s3.amazonaws.com/hubway-data/201709-hubway-tripdata.zip':'trips_201709',\n",
    "'https://s3.amazonaws.com/hubway-data/201710-hubway-tripdata.zip':'trips_201710',\n",
    "'https://s3.amazonaws.com/hubway-data/201711-hubway-tripdata.zip':'trips_201711',\n",
    "'https://s3.amazonaws.com/hubway-data/201712-hubway-tripdata.zip':'trips_201712',\n",
    "'https://s3.amazonaws.com/hubway-data/201801-hubway-tripdata.zip':'trips_201801',\n",
    "'https://s3.amazonaws.com/hubway-data/201802-hubway-tripdata.zip':'trips_201802',\n",
    "'https://s3.amazonaws.com/hubway-data/201803-hubway-tripdata.zip':'trips_201803',\n",
    "'https://s3.amazonaws.com/hubway-data/201804-hubway-tripdata.zip':'trips_201804',\n",
    "'https://s3.amazonaws.com/hubway-data/201805-bluebikes-tripdata.zip':'trips_201805',\n",
    "'https://s3.amazonaws.com/hubway-data/201806-bluebikes-tripdata.zip':'trips_201806',\n",
    "'https://s3.amazonaws.com/hubway-data/201807-bluebikes-tripdata.zip':'trips_201807',\n",
    "'https://s3.amazonaws.com/hubway-data/201808-bluebikes-tripdata.zip':'trips_201808',\n",
    "'https://s3.amazonaws.com/hubway-data/201809-bluebikes-tripdata.zip':'trips_201809',\n",
    "'https://s3.amazonaws.com/hubway-data/201810-bluebikes-tripdata.zip':'trips_201810',\n",
    "'https://s3.amazonaws.com/hubway-data/201811-bluebikes-tripdata.zip':'trips_201811',\n",
    "'https://s3.amazonaws.com/hubway-data/201812-bluebikes-tripdata.zip':'trips_201812',\n",
    "'https://s3.amazonaws.com/hubway-data/201901-bluebikes-tripdata.zip':'trips_201901',\n",
    "'https://s3.amazonaws.com/hubway-data/201902-bluebikes-tripdata.zip':'trips_201902',\n",
    "'https://s3.amazonaws.com/hubway-data/201903-bluebikes-tripdata.zip':'trips_201903',\n",
    "'https://s3.amazonaws.com/hubway-data/201904-bluebikes-tripdata.zip':'trips_201904',\n",
    "'https://s3.amazonaws.com/hubway-data/201905-bluebikes-tripdata.zip':'trips_201905',\n",
    "'https://s3.amazonaws.com/hubway-data/201906-bluebikes-tripdata.zip':'trips_201906',\n",
    "'https://s3.amazonaws.com/hubway-data/201907-bluebikes-tripdata.zip':'trips_201907',\n",
    "'https://s3.amazonaws.com/hubway-data/201908-bluebikes-tripdata.zip':'trips_201908',\n",
    "'https://s3.amazonaws.com/hubway-data/201909-bluebikes-tripdata.zip':'trips_201909',\n",
    "'https://s3.amazonaws.com/hubway-data/201910-bluebikes-tripdata.zip':'trips_201910',\n",
    "'https://s3.amazonaws.com/hubway-data/201911-bluebikes-tripdata.zip':'trips_201911',\n",
    "'https://s3.amazonaws.com/hubway-data/201912-bluebikes-tripdata.zip':'trips_201912'}"
   ]
  },
  {
   "cell_type": "code",
   "execution_count": 126,
   "id": "26ad5e31",
   "metadata": {},
   "outputs": [],
   "source": [
    "df = pd.DataFrame()\n",
    "for month in trips:\n",
    "    r = requests.get(month)\n",
    "    z = zipfile.ZipFile(io.BytesIO(r.content))\n",
    "    z.extractall()\n",
    "    filename = month.split(\"/\",4)\n",
    "    filename = filename[4].split(\".\",2)\n",
    "    filename = filename[0]\n",
    "    if filename in ['201801-hubway-tripdata', '201802-hubway-tripdata', '201803-hubway-tripdata']:\n",
    "        filename = filename.replace( \"-\", \"_\" )\n",
    "    filename = filename +\".csv\"\n",
    "    x = pd.read_csv(filename, sep=',')\n",
    "    df = pd.concat([df, x], axis=0)"
   ]
  },
  {
   "cell_type": "markdown",
   "id": "30f82a0f",
   "metadata": {},
   "source": [
    "### 1.2 Clean trip history"
   ]
  },
  {
   "cell_type": "code",
   "execution_count": 127,
   "id": "800178e7",
   "metadata": {
    "scrolled": true
   },
   "outputs": [
    {
     "data": {
      "text/html": [
       "<div>\n",
       "<style scoped>\n",
       "    .dataframe tbody tr th:only-of-type {\n",
       "        vertical-align: middle;\n",
       "    }\n",
       "\n",
       "    .dataframe tbody tr th {\n",
       "        vertical-align: top;\n",
       "    }\n",
       "\n",
       "    .dataframe thead th {\n",
       "        text-align: right;\n",
       "    }\n",
       "</style>\n",
       "<table border=\"1\" class=\"dataframe\">\n",
       "  <thead>\n",
       "    <tr style=\"text-align: right;\">\n",
       "      <th></th>\n",
       "      <th>tripduration</th>\n",
       "      <th>starttime</th>\n",
       "      <th>stoptime</th>\n",
       "      <th>start station id</th>\n",
       "      <th>start station name</th>\n",
       "      <th>start station latitude</th>\n",
       "      <th>start station longitude</th>\n",
       "      <th>end station id</th>\n",
       "      <th>end station name</th>\n",
       "      <th>end station latitude</th>\n",
       "      <th>end station longitude</th>\n",
       "      <th>bikeid</th>\n",
       "      <th>usertype</th>\n",
       "      <th>birth year</th>\n",
       "      <th>gender</th>\n",
       "    </tr>\n",
       "  </thead>\n",
       "  <tbody>\n",
       "    <tr>\n",
       "      <th>0</th>\n",
       "      <td>542</td>\n",
       "      <td>2015-01-01 00:21:44</td>\n",
       "      <td>2015-01-01 00:30:47</td>\n",
       "      <td>115</td>\n",
       "      <td>Porter Square Station</td>\n",
       "      <td>42.387995</td>\n",
       "      <td>-71.119084</td>\n",
       "      <td>96</td>\n",
       "      <td>Cambridge Main Library at Broadway / Trowbridg...</td>\n",
       "      <td>42.373379</td>\n",
       "      <td>-71.111075</td>\n",
       "      <td>277</td>\n",
       "      <td>Subscriber</td>\n",
       "      <td>1984</td>\n",
       "      <td>1</td>\n",
       "    </tr>\n",
       "    <tr>\n",
       "      <th>1</th>\n",
       "      <td>438</td>\n",
       "      <td>2015-01-01 00:27:03</td>\n",
       "      <td>2015-01-01 00:34:21</td>\n",
       "      <td>80</td>\n",
       "      <td>MIT Stata Center at Vassar St / Main St</td>\n",
       "      <td>42.361962</td>\n",
       "      <td>-71.092053</td>\n",
       "      <td>95</td>\n",
       "      <td>Cambridge St - at Columbia St / Webster Ave</td>\n",
       "      <td>42.372969</td>\n",
       "      <td>-71.094445</td>\n",
       "      <td>648</td>\n",
       "      <td>Subscriber</td>\n",
       "      <td>1985</td>\n",
       "      <td>1</td>\n",
       "    </tr>\n",
       "    <tr>\n",
       "      <th>2</th>\n",
       "      <td>254</td>\n",
       "      <td>2015-01-01 00:31:31</td>\n",
       "      <td>2015-01-01 00:35:46</td>\n",
       "      <td>91</td>\n",
       "      <td>One Kendall Square at Hampshire St / Portland St</td>\n",
       "      <td>42.366277</td>\n",
       "      <td>-71.091690</td>\n",
       "      <td>68</td>\n",
       "      <td>Central Square at Mass Ave / Essex St</td>\n",
       "      <td>42.36507</td>\n",
       "      <td>-71.1031</td>\n",
       "      <td>555</td>\n",
       "      <td>Subscriber</td>\n",
       "      <td>1974</td>\n",
       "      <td>1</td>\n",
       "    </tr>\n",
       "    <tr>\n",
       "      <th>3</th>\n",
       "      <td>432</td>\n",
       "      <td>2015-01-01 00:53:46</td>\n",
       "      <td>2015-01-01 01:00:58</td>\n",
       "      <td>115</td>\n",
       "      <td>Porter Square Station</td>\n",
       "      <td>42.387995</td>\n",
       "      <td>-71.119084</td>\n",
       "      <td>96</td>\n",
       "      <td>Cambridge Main Library at Broadway / Trowbridg...</td>\n",
       "      <td>42.373379</td>\n",
       "      <td>-71.111075</td>\n",
       "      <td>1307</td>\n",
       "      <td>Subscriber</td>\n",
       "      <td>1987</td>\n",
       "      <td>1</td>\n",
       "    </tr>\n",
       "    <tr>\n",
       "      <th>4</th>\n",
       "      <td>735</td>\n",
       "      <td>2015-01-01 01:07:06</td>\n",
       "      <td>2015-01-01 01:19:21</td>\n",
       "      <td>105</td>\n",
       "      <td>Lower Cambridgeport at Magazine St/Riverside Rd</td>\n",
       "      <td>42.356954</td>\n",
       "      <td>-71.113687</td>\n",
       "      <td>88</td>\n",
       "      <td>Inman Square at Vellucci Plaza / Hampshire St</td>\n",
       "      <td>42.374035</td>\n",
       "      <td>-71.101427</td>\n",
       "      <td>177</td>\n",
       "      <td>Customer</td>\n",
       "      <td>1986</td>\n",
       "      <td>2</td>\n",
       "    </tr>\n",
       "  </tbody>\n",
       "</table>\n",
       "</div>"
      ],
      "text/plain": [
       "   tripduration            starttime             stoptime  start station id  \\\n",
       "0           542  2015-01-01 00:21:44  2015-01-01 00:30:47               115   \n",
       "1           438  2015-01-01 00:27:03  2015-01-01 00:34:21                80   \n",
       "2           254  2015-01-01 00:31:31  2015-01-01 00:35:46                91   \n",
       "3           432  2015-01-01 00:53:46  2015-01-01 01:00:58               115   \n",
       "4           735  2015-01-01 01:07:06  2015-01-01 01:19:21               105   \n",
       "\n",
       "                                 start station name  start station latitude  \\\n",
       "0                             Porter Square Station               42.387995   \n",
       "1           MIT Stata Center at Vassar St / Main St               42.361962   \n",
       "2  One Kendall Square at Hampshire St / Portland St               42.366277   \n",
       "3                             Porter Square Station               42.387995   \n",
       "4   Lower Cambridgeport at Magazine St/Riverside Rd               42.356954   \n",
       "\n",
       "   start station longitude end station id  \\\n",
       "0               -71.119084             96   \n",
       "1               -71.092053             95   \n",
       "2               -71.091690             68   \n",
       "3               -71.119084             96   \n",
       "4               -71.113687             88   \n",
       "\n",
       "                                    end station name end station latitude  \\\n",
       "0  Cambridge Main Library at Broadway / Trowbridg...            42.373379   \n",
       "1        Cambridge St - at Columbia St / Webster Ave            42.372969   \n",
       "2              Central Square at Mass Ave / Essex St             42.36507   \n",
       "3  Cambridge Main Library at Broadway / Trowbridg...            42.373379   \n",
       "4      Inman Square at Vellucci Plaza / Hampshire St            42.374035   \n",
       "\n",
       "  end station longitude  bikeid    usertype birth year  gender  \n",
       "0            -71.111075     277  Subscriber       1984       1  \n",
       "1            -71.094445     648  Subscriber       1985       1  \n",
       "2              -71.1031     555  Subscriber       1974       1  \n",
       "3            -71.111075    1307  Subscriber       1987       1  \n",
       "4            -71.101427     177    Customer       1986       2  "
      ]
     },
     "execution_count": 127,
     "metadata": {},
     "output_type": "execute_result"
    }
   ],
   "source": [
    "df[:5]"
   ]
  },
  {
   "cell_type": "code",
   "execution_count": 128,
   "id": "57afdbdc",
   "metadata": {},
   "outputs": [],
   "source": [
    "df['o_time'] =pd.to_datetime(df['starttime'])"
   ]
  },
  {
   "cell_type": "code",
   "execution_count": 129,
   "id": "fdc7bd94",
   "metadata": {},
   "outputs": [],
   "source": [
    "df['o_minofday']=df['o_time'].dt.minute\n",
    "df['o_dayofweek']=df['o_time'].dt.dayofweek\n",
    "df['o_hour']=df['o_time'].dt.hour"
   ]
  },
  {
   "cell_type": "code",
   "execution_count": 130,
   "id": "56b86a0c",
   "metadata": {},
   "outputs": [
    {
     "data": {
      "text/html": [
       "<div>\n",
       "<style scoped>\n",
       "    .dataframe tbody tr th:only-of-type {\n",
       "        vertical-align: middle;\n",
       "    }\n",
       "\n",
       "    .dataframe tbody tr th {\n",
       "        vertical-align: top;\n",
       "    }\n",
       "\n",
       "    .dataframe thead th {\n",
       "        text-align: right;\n",
       "    }\n",
       "</style>\n",
       "<table border=\"1\" class=\"dataframe\">\n",
       "  <thead>\n",
       "    <tr style=\"text-align: right;\">\n",
       "      <th></th>\n",
       "      <th>tripduration</th>\n",
       "      <th>starttime</th>\n",
       "      <th>stoptime</th>\n",
       "      <th>start station id</th>\n",
       "      <th>start station name</th>\n",
       "      <th>start station latitude</th>\n",
       "      <th>start station longitude</th>\n",
       "      <th>end station id</th>\n",
       "      <th>end station name</th>\n",
       "      <th>end station latitude</th>\n",
       "      <th>end station longitude</th>\n",
       "      <th>bikeid</th>\n",
       "      <th>usertype</th>\n",
       "      <th>birth year</th>\n",
       "      <th>gender</th>\n",
       "      <th>o_time</th>\n",
       "      <th>o_minofday</th>\n",
       "      <th>o_dayofweek</th>\n",
       "      <th>o_hour</th>\n",
       "    </tr>\n",
       "  </thead>\n",
       "  <tbody>\n",
       "    <tr>\n",
       "      <th>0</th>\n",
       "      <td>542</td>\n",
       "      <td>2015-01-01 00:21:44</td>\n",
       "      <td>2015-01-01 00:30:47</td>\n",
       "      <td>115</td>\n",
       "      <td>Porter Square Station</td>\n",
       "      <td>42.387995</td>\n",
       "      <td>-71.119084</td>\n",
       "      <td>96</td>\n",
       "      <td>Cambridge Main Library at Broadway / Trowbridg...</td>\n",
       "      <td>42.373379</td>\n",
       "      <td>-71.111075</td>\n",
       "      <td>277</td>\n",
       "      <td>Subscriber</td>\n",
       "      <td>1984</td>\n",
       "      <td>1</td>\n",
       "      <td>2015-01-01 00:21:44</td>\n",
       "      <td>21</td>\n",
       "      <td>3</td>\n",
       "      <td>0</td>\n",
       "    </tr>\n",
       "    <tr>\n",
       "      <th>1</th>\n",
       "      <td>438</td>\n",
       "      <td>2015-01-01 00:27:03</td>\n",
       "      <td>2015-01-01 00:34:21</td>\n",
       "      <td>80</td>\n",
       "      <td>MIT Stata Center at Vassar St / Main St</td>\n",
       "      <td>42.361962</td>\n",
       "      <td>-71.092053</td>\n",
       "      <td>95</td>\n",
       "      <td>Cambridge St - at Columbia St / Webster Ave</td>\n",
       "      <td>42.372969</td>\n",
       "      <td>-71.094445</td>\n",
       "      <td>648</td>\n",
       "      <td>Subscriber</td>\n",
       "      <td>1985</td>\n",
       "      <td>1</td>\n",
       "      <td>2015-01-01 00:27:03</td>\n",
       "      <td>27</td>\n",
       "      <td>3</td>\n",
       "      <td>0</td>\n",
       "    </tr>\n",
       "    <tr>\n",
       "      <th>2</th>\n",
       "      <td>254</td>\n",
       "      <td>2015-01-01 00:31:31</td>\n",
       "      <td>2015-01-01 00:35:46</td>\n",
       "      <td>91</td>\n",
       "      <td>One Kendall Square at Hampshire St / Portland St</td>\n",
       "      <td>42.366277</td>\n",
       "      <td>-71.091690</td>\n",
       "      <td>68</td>\n",
       "      <td>Central Square at Mass Ave / Essex St</td>\n",
       "      <td>42.36507</td>\n",
       "      <td>-71.1031</td>\n",
       "      <td>555</td>\n",
       "      <td>Subscriber</td>\n",
       "      <td>1974</td>\n",
       "      <td>1</td>\n",
       "      <td>2015-01-01 00:31:31</td>\n",
       "      <td>31</td>\n",
       "      <td>3</td>\n",
       "      <td>0</td>\n",
       "    </tr>\n",
       "  </tbody>\n",
       "</table>\n",
       "</div>"
      ],
      "text/plain": [
       "   tripduration            starttime             stoptime  start station id  \\\n",
       "0           542  2015-01-01 00:21:44  2015-01-01 00:30:47               115   \n",
       "1           438  2015-01-01 00:27:03  2015-01-01 00:34:21                80   \n",
       "2           254  2015-01-01 00:31:31  2015-01-01 00:35:46                91   \n",
       "\n",
       "                                 start station name  start station latitude  \\\n",
       "0                             Porter Square Station               42.387995   \n",
       "1           MIT Stata Center at Vassar St / Main St               42.361962   \n",
       "2  One Kendall Square at Hampshire St / Portland St               42.366277   \n",
       "\n",
       "   start station longitude end station id  \\\n",
       "0               -71.119084             96   \n",
       "1               -71.092053             95   \n",
       "2               -71.091690             68   \n",
       "\n",
       "                                    end station name end station latitude  \\\n",
       "0  Cambridge Main Library at Broadway / Trowbridg...            42.373379   \n",
       "1        Cambridge St - at Columbia St / Webster Ave            42.372969   \n",
       "2              Central Square at Mass Ave / Essex St             42.36507   \n",
       "\n",
       "  end station longitude  bikeid    usertype birth year  gender  \\\n",
       "0            -71.111075     277  Subscriber       1984       1   \n",
       "1            -71.094445     648  Subscriber       1985       1   \n",
       "2              -71.1031     555  Subscriber       1974       1   \n",
       "\n",
       "               o_time  o_minofday  o_dayofweek  o_hour  \n",
       "0 2015-01-01 00:21:44          21            3       0  \n",
       "1 2015-01-01 00:27:03          27            3       0  \n",
       "2 2015-01-01 00:31:31          31            3       0  "
      ]
     },
     "execution_count": 130,
     "metadata": {},
     "output_type": "execute_result"
    }
   ],
   "source": [
    "df[:3]"
   ]
  },
  {
   "cell_type": "code",
   "execution_count": 131,
   "id": "23b5af33",
   "metadata": {},
   "outputs": [
    {
     "data": {
      "text/plain": [
       "7963112"
      ]
     },
     "execution_count": 131,
     "metadata": {},
     "output_type": "execute_result"
    }
   ],
   "source": [
    "len(df) #7,963,112 trips "
   ]
  },
  {
   "cell_type": "code",
   "execution_count": 132,
   "id": "d8d18b60",
   "metadata": {},
   "outputs": [
    {
     "data": {
      "text/plain": [
       "array([1, 2, 0], dtype=int64)"
      ]
     },
     "execution_count": 132,
     "metadata": {},
     "output_type": "execute_result"
    }
   ],
   "source": [
    "df.gender.unique()"
   ]
  },
  {
   "cell_type": "code",
   "execution_count": 133,
   "id": "6ee8cf3c",
   "metadata": {},
   "outputs": [
    {
     "data": {
      "text/plain": [
       "1197655"
      ]
     },
     "execution_count": 133,
     "metadata": {},
     "output_type": "execute_result"
    }
   ],
   "source": [
    "len(df[df['gender']==0]) #1,197,655 trips missing gender"
   ]
  },
  {
   "cell_type": "code",
   "execution_count": 134,
   "id": "d353c420",
   "metadata": {},
   "outputs": [],
   "source": [
    "df = df[df['gender'].isin([1,2])] #subset trips where gender = male or female "
   ]
  },
  {
   "cell_type": "code",
   "execution_count": 135,
   "id": "99eee4dd",
   "metadata": {},
   "outputs": [],
   "source": [
    "df['gender'] = df['gender'].replace(1,'male').replace(2, 'female') #rename numeric values"
   ]
  },
  {
   "cell_type": "code",
   "execution_count": 136,
   "id": "ab755ed5",
   "metadata": {},
   "outputs": [],
   "source": [
    "df = df[df['birth year'] !='\\\\N'] #remove null birth years"
   ]
  },
  {
   "cell_type": "code",
   "execution_count": 137,
   "id": "e6534606",
   "metadata": {},
   "outputs": [
    {
     "data": {
      "text/plain": [
       "6765411"
      ]
     },
     "execution_count": 137,
     "metadata": {},
     "output_type": "execute_result"
    }
   ],
   "source": [
    "len(df) #6,765,411 trips in final sample"
   ]
  },
  {
   "cell_type": "markdown",
   "id": "7b2ab23a",
   "metadata": {},
   "source": [
    "### 1.3 Save clean trip history"
   ]
  },
  {
   "cell_type": "code",
   "execution_count": 138,
   "id": "f63aa360",
   "metadata": {},
   "outputs": [],
   "source": [
    "df.to_csv(\"../Data_Clean/trips_cleaned.csv\", index=False)"
   ]
  },
  {
   "cell_type": "markdown",
   "id": "0a6fc364",
   "metadata": {},
   "source": [
    "### 1.4 Pull station location information"
   ]
  },
  {
   "cell_type": "code",
   "execution_count": 3,
   "id": "94a0f338",
   "metadata": {},
   "outputs": [],
   "source": [
    "trips = pd.read_csv('../Data_Clean/trips_cleaned.csv')"
   ]
  },
  {
   "cell_type": "code",
   "execution_count": 5,
   "id": "3173bfc2",
   "metadata": {},
   "outputs": [
    {
     "data": {
      "text/html": [
       "<div>\n",
       "<style scoped>\n",
       "    .dataframe tbody tr th:only-of-type {\n",
       "        vertical-align: middle;\n",
       "    }\n",
       "\n",
       "    .dataframe tbody tr th {\n",
       "        vertical-align: top;\n",
       "    }\n",
       "\n",
       "    .dataframe thead th {\n",
       "        text-align: right;\n",
       "    }\n",
       "</style>\n",
       "<table border=\"1\" class=\"dataframe\">\n",
       "  <thead>\n",
       "    <tr style=\"text-align: right;\">\n",
       "      <th></th>\n",
       "      <th>tripduration</th>\n",
       "      <th>starttime</th>\n",
       "      <th>stoptime</th>\n",
       "      <th>start station id</th>\n",
       "      <th>start station name</th>\n",
       "      <th>start station latitude</th>\n",
       "      <th>start station longitude</th>\n",
       "      <th>end station id</th>\n",
       "      <th>end station name</th>\n",
       "      <th>end station latitude</th>\n",
       "      <th>end station longitude</th>\n",
       "      <th>bikeid</th>\n",
       "      <th>usertype</th>\n",
       "      <th>birth year</th>\n",
       "      <th>gender</th>\n",
       "      <th>o_time</th>\n",
       "      <th>o_minofday</th>\n",
       "      <th>o_dayofweek</th>\n",
       "      <th>o_hour</th>\n",
       "    </tr>\n",
       "  </thead>\n",
       "  <tbody>\n",
       "    <tr>\n",
       "      <th>0</th>\n",
       "      <td>542</td>\n",
       "      <td>2015-01-01 00:21:44</td>\n",
       "      <td>2015-01-01 00:30:47</td>\n",
       "      <td>115</td>\n",
       "      <td>Porter Square Station</td>\n",
       "      <td>42.387995</td>\n",
       "      <td>-71.119084</td>\n",
       "      <td>96</td>\n",
       "      <td>Cambridge Main Library at Broadway / Trowbridg...</td>\n",
       "      <td>42.373379</td>\n",
       "      <td>-71.111075</td>\n",
       "      <td>277</td>\n",
       "      <td>Subscriber</td>\n",
       "      <td>1984.0</td>\n",
       "      <td>male</td>\n",
       "      <td>2015-01-01 00:21:44</td>\n",
       "      <td>21</td>\n",
       "      <td>3</td>\n",
       "      <td>0</td>\n",
       "    </tr>\n",
       "    <tr>\n",
       "      <th>1</th>\n",
       "      <td>438</td>\n",
       "      <td>2015-01-01 00:27:03</td>\n",
       "      <td>2015-01-01 00:34:21</td>\n",
       "      <td>80</td>\n",
       "      <td>MIT Stata Center at Vassar St / Main St</td>\n",
       "      <td>42.361962</td>\n",
       "      <td>-71.092053</td>\n",
       "      <td>95</td>\n",
       "      <td>Cambridge St - at Columbia St / Webster Ave</td>\n",
       "      <td>42.372969</td>\n",
       "      <td>-71.094445</td>\n",
       "      <td>648</td>\n",
       "      <td>Subscriber</td>\n",
       "      <td>1985.0</td>\n",
       "      <td>male</td>\n",
       "      <td>2015-01-01 00:27:03</td>\n",
       "      <td>27</td>\n",
       "      <td>3</td>\n",
       "      <td>0</td>\n",
       "    </tr>\n",
       "    <tr>\n",
       "      <th>2</th>\n",
       "      <td>254</td>\n",
       "      <td>2015-01-01 00:31:31</td>\n",
       "      <td>2015-01-01 00:35:46</td>\n",
       "      <td>91</td>\n",
       "      <td>One Kendall Square at Hampshire St / Portland St</td>\n",
       "      <td>42.366277</td>\n",
       "      <td>-71.091690</td>\n",
       "      <td>68</td>\n",
       "      <td>Central Square at Mass Ave / Essex St</td>\n",
       "      <td>42.365070</td>\n",
       "      <td>-71.103100</td>\n",
       "      <td>555</td>\n",
       "      <td>Subscriber</td>\n",
       "      <td>1974.0</td>\n",
       "      <td>male</td>\n",
       "      <td>2015-01-01 00:31:31</td>\n",
       "      <td>31</td>\n",
       "      <td>3</td>\n",
       "      <td>0</td>\n",
       "    </tr>\n",
       "    <tr>\n",
       "      <th>3</th>\n",
       "      <td>432</td>\n",
       "      <td>2015-01-01 00:53:46</td>\n",
       "      <td>2015-01-01 01:00:58</td>\n",
       "      <td>115</td>\n",
       "      <td>Porter Square Station</td>\n",
       "      <td>42.387995</td>\n",
       "      <td>-71.119084</td>\n",
       "      <td>96</td>\n",
       "      <td>Cambridge Main Library at Broadway / Trowbridg...</td>\n",
       "      <td>42.373379</td>\n",
       "      <td>-71.111075</td>\n",
       "      <td>1307</td>\n",
       "      <td>Subscriber</td>\n",
       "      <td>1987.0</td>\n",
       "      <td>male</td>\n",
       "      <td>2015-01-01 00:53:46</td>\n",
       "      <td>53</td>\n",
       "      <td>3</td>\n",
       "      <td>0</td>\n",
       "    </tr>\n",
       "    <tr>\n",
       "      <th>4</th>\n",
       "      <td>735</td>\n",
       "      <td>2015-01-01 01:07:06</td>\n",
       "      <td>2015-01-01 01:19:21</td>\n",
       "      <td>105</td>\n",
       "      <td>Lower Cambridgeport at Magazine St/Riverside Rd</td>\n",
       "      <td>42.356954</td>\n",
       "      <td>-71.113687</td>\n",
       "      <td>88</td>\n",
       "      <td>Inman Square at Vellucci Plaza / Hampshire St</td>\n",
       "      <td>42.374035</td>\n",
       "      <td>-71.101427</td>\n",
       "      <td>177</td>\n",
       "      <td>Customer</td>\n",
       "      <td>1986.0</td>\n",
       "      <td>female</td>\n",
       "      <td>2015-01-01 01:07:06</td>\n",
       "      <td>7</td>\n",
       "      <td>3</td>\n",
       "      <td>1</td>\n",
       "    </tr>\n",
       "  </tbody>\n",
       "</table>\n",
       "</div>"
      ],
      "text/plain": [
       "   tripduration            starttime             stoptime  start station id  \\\n",
       "0           542  2015-01-01 00:21:44  2015-01-01 00:30:47               115   \n",
       "1           438  2015-01-01 00:27:03  2015-01-01 00:34:21                80   \n",
       "2           254  2015-01-01 00:31:31  2015-01-01 00:35:46                91   \n",
       "3           432  2015-01-01 00:53:46  2015-01-01 01:00:58               115   \n",
       "4           735  2015-01-01 01:07:06  2015-01-01 01:19:21               105   \n",
       "\n",
       "                                 start station name  start station latitude  \\\n",
       "0                             Porter Square Station               42.387995   \n",
       "1           MIT Stata Center at Vassar St / Main St               42.361962   \n",
       "2  One Kendall Square at Hampshire St / Portland St               42.366277   \n",
       "3                             Porter Square Station               42.387995   \n",
       "4   Lower Cambridgeport at Magazine St/Riverside Rd               42.356954   \n",
       "\n",
       "   start station longitude  end station id  \\\n",
       "0               -71.119084              96   \n",
       "1               -71.092053              95   \n",
       "2               -71.091690              68   \n",
       "3               -71.119084              96   \n",
       "4               -71.113687              88   \n",
       "\n",
       "                                    end station name  end station latitude  \\\n",
       "0  Cambridge Main Library at Broadway / Trowbridg...             42.373379   \n",
       "1        Cambridge St - at Columbia St / Webster Ave             42.372969   \n",
       "2              Central Square at Mass Ave / Essex St             42.365070   \n",
       "3  Cambridge Main Library at Broadway / Trowbridg...             42.373379   \n",
       "4      Inman Square at Vellucci Plaza / Hampshire St             42.374035   \n",
       "\n",
       "   end station longitude  bikeid    usertype  birth year  gender  \\\n",
       "0             -71.111075     277  Subscriber      1984.0    male   \n",
       "1             -71.094445     648  Subscriber      1985.0    male   \n",
       "2             -71.103100     555  Subscriber      1974.0    male   \n",
       "3             -71.111075    1307  Subscriber      1987.0    male   \n",
       "4             -71.101427     177    Customer      1986.0  female   \n",
       "\n",
       "                o_time  o_minofday  o_dayofweek  o_hour  \n",
       "0  2015-01-01 00:21:44          21            3       0  \n",
       "1  2015-01-01 00:27:03          27            3       0  \n",
       "2  2015-01-01 00:31:31          31            3       0  \n",
       "3  2015-01-01 00:53:46          53            3       0  \n",
       "4  2015-01-01 01:07:06           7            3       1  "
      ]
     },
     "execution_count": 5,
     "metadata": {},
     "output_type": "execute_result"
    }
   ],
   "source": [
    "trips.head()"
   ]
  },
  {
   "cell_type": "code",
   "execution_count": 4,
   "id": "11820b32",
   "metadata": {},
   "outputs": [],
   "source": [
    "stations = trips[['start station id', 'start station name', 'start station latitude', 'start station longitude']].rename(columns={'start station id':'station id', 'start station name':'station name', 'start station latitude':'latitude', 'start station longitude':'longitude'})"
   ]
  },
  {
   "cell_type": "code",
   "execution_count": 5,
   "id": "bd6bf054",
   "metadata": {},
   "outputs": [],
   "source": [
    "station_ids = pd.DataFrame(stations['station id'].unique()).rename(columns={0:'station id'})"
   ]
  },
  {
   "cell_type": "code",
   "execution_count": 6,
   "id": "b7e3ee00",
   "metadata": {},
   "outputs": [],
   "source": [
    "station_locations = station_ids.merge(stations, how='inner', on='station id').drop_duplicates(subset=['station id'], keep='last').reset_index(drop=True)"
   ]
  },
  {
   "cell_type": "markdown",
   "id": "e07263ad",
   "metadata": {},
   "source": [
    "### 1.5 Clean station location information"
   ]
  },
  {
   "cell_type": "code",
   "execution_count": 7,
   "id": "ae062c97",
   "metadata": {},
   "outputs": [
    {
     "data": {
      "text/html": [
       "<div>\n",
       "<style scoped>\n",
       "    .dataframe tbody tr th:only-of-type {\n",
       "        vertical-align: middle;\n",
       "    }\n",
       "\n",
       "    .dataframe tbody tr th {\n",
       "        vertical-align: top;\n",
       "    }\n",
       "\n",
       "    .dataframe thead th {\n",
       "        text-align: right;\n",
       "    }\n",
       "</style>\n",
       "<table border=\"1\" class=\"dataframe\">\n",
       "  <thead>\n",
       "    <tr style=\"text-align: right;\">\n",
       "      <th></th>\n",
       "      <th>station id</th>\n",
       "      <th>station name</th>\n",
       "      <th>latitude</th>\n",
       "      <th>longitude</th>\n",
       "    </tr>\n",
       "  </thead>\n",
       "  <tbody>\n",
       "    <tr>\n",
       "      <th>32</th>\n",
       "      <td>1</td>\n",
       "      <td>18 Dorrance Warehouse</td>\n",
       "      <td>42.387151</td>\n",
       "      <td>-71.075978</td>\n",
       "    </tr>\n",
       "    <tr>\n",
       "      <th>80</th>\n",
       "      <td>3</td>\n",
       "      <td>Colleges of the Fenway - Fenway at Avenue Loui...</td>\n",
       "      <td>42.340115</td>\n",
       "      <td>-71.100619</td>\n",
       "    </tr>\n",
       "    <tr>\n",
       "      <th>62</th>\n",
       "      <td>4</td>\n",
       "      <td>Tremont St at E Berkeley St</td>\n",
       "      <td>42.345392</td>\n",
       "      <td>-71.069616</td>\n",
       "    </tr>\n",
       "    <tr>\n",
       "      <th>110</th>\n",
       "      <td>5</td>\n",
       "      <td>Northeastern University - North Parking Lot</td>\n",
       "      <td>42.341814</td>\n",
       "      <td>-71.090179</td>\n",
       "    </tr>\n",
       "    <tr>\n",
       "      <th>58</th>\n",
       "      <td>6</td>\n",
       "      <td>Cambridge St at Joy St</td>\n",
       "      <td>42.361212</td>\n",
       "      <td>-71.065306</td>\n",
       "    </tr>\n",
       "    <tr>\n",
       "      <th>...</th>\n",
       "      <td>...</td>\n",
       "      <td>...</td>\n",
       "      <td>...</td>\n",
       "      <td>...</td>\n",
       "    </tr>\n",
       "    <tr>\n",
       "      <th>380</th>\n",
       "      <td>441</td>\n",
       "      <td>Sullivan Square</td>\n",
       "      <td>42.384452</td>\n",
       "      <td>-71.075149</td>\n",
       "    </tr>\n",
       "    <tr>\n",
       "      <th>382</th>\n",
       "      <td>442</td>\n",
       "      <td>Hyde Park Ave at Walk Hill St</td>\n",
       "      <td>42.296067</td>\n",
       "      <td>-71.116012</td>\n",
       "    </tr>\n",
       "    <tr>\n",
       "      <th>381</th>\n",
       "      <td>443</td>\n",
       "      <td>Whittier St Health Center</td>\n",
       "      <td>42.332863</td>\n",
       "      <td>-71.092189</td>\n",
       "    </tr>\n",
       "    <tr>\n",
       "      <th>384</th>\n",
       "      <td>445</td>\n",
       "      <td>Geiger Gibson Community Health Center</td>\n",
       "      <td>42.318865</td>\n",
       "      <td>-71.045368</td>\n",
       "    </tr>\n",
       "    <tr>\n",
       "      <th>383</th>\n",
       "      <td>446</td>\n",
       "      <td>700 Commonwealth Ave.</td>\n",
       "      <td>42.349609</td>\n",
       "      <td>-71.103915</td>\n",
       "    </tr>\n",
       "  </tbody>\n",
       "</table>\n",
       "<p>385 rows × 4 columns</p>\n",
       "</div>"
      ],
      "text/plain": [
       "     station id                                       station name   latitude  \\\n",
       "32            1                              18 Dorrance Warehouse  42.387151   \n",
       "80            3  Colleges of the Fenway - Fenway at Avenue Loui...  42.340115   \n",
       "62            4                        Tremont St at E Berkeley St  42.345392   \n",
       "110           5        Northeastern University - North Parking Lot  42.341814   \n",
       "58            6                             Cambridge St at Joy St  42.361212   \n",
       "..          ...                                                ...        ...   \n",
       "380         441                                    Sullivan Square  42.384452   \n",
       "382         442                      Hyde Park Ave at Walk Hill St  42.296067   \n",
       "381         443                          Whittier St Health Center  42.332863   \n",
       "384         445              Geiger Gibson Community Health Center  42.318865   \n",
       "383         446                              700 Commonwealth Ave.  42.349609   \n",
       "\n",
       "     longitude  \n",
       "32  -71.075978  \n",
       "80  -71.100619  \n",
       "62  -71.069616  \n",
       "110 -71.090179  \n",
       "58  -71.065306  \n",
       "..         ...  \n",
       "380 -71.075149  \n",
       "382 -71.116012  \n",
       "381 -71.092189  \n",
       "384 -71.045368  \n",
       "383 -71.103915  \n",
       "\n",
       "[385 rows x 4 columns]"
      ]
     },
     "execution_count": 7,
     "metadata": {},
     "output_type": "execute_result"
    }
   ],
   "source": [
    "station_locations.sort_values(by='station id')"
   ]
  },
  {
   "cell_type": "code",
   "execution_count": 8,
   "id": "45cb18f4",
   "metadata": {},
   "outputs": [],
   "source": [
    "bad = station_locations[(station_locations['latitude']==0) | (station_locations['station id']==308)].index"
   ]
  },
  {
   "cell_type": "code",
   "execution_count": 9,
   "id": "e4deaa2e",
   "metadata": {},
   "outputs": [],
   "source": [
    "station_locations.drop(bad, inplace=True) #drop error station locations"
   ]
  },
  {
   "cell_type": "markdown",
   "id": "318aad6a",
   "metadata": {},
   "source": [
    "### 1.6 Save station location information"
   ]
  },
  {
   "cell_type": "code",
   "execution_count": 12,
   "id": "702f680e",
   "metadata": {},
   "outputs": [],
   "source": [
    "station_locations.to_csv('../Data_Clean/station_locations.csv', index=False)"
   ]
  },
  {
   "cell_type": "markdown",
   "id": "31959870",
   "metadata": {},
   "source": [
    "### 1.7 Create geodataframe for all stations"
   ]
  },
  {
   "cell_type": "code",
   "execution_count": 34,
   "id": "8f824f40",
   "metadata": {},
   "outputs": [],
   "source": [
    "stations_gdf = gpd.GeoDataFrame(station_locations, \n",
    "                                  geometry=gpd.points_from_xy(station_locations.longitude, station_locations.latitude))"
   ]
  },
  {
   "cell_type": "code",
   "execution_count": 35,
   "id": "b6570cf8",
   "metadata": {},
   "outputs": [
    {
     "data": {
      "text/html": [
       "<div>\n",
       "<style scoped>\n",
       "    .dataframe tbody tr th:only-of-type {\n",
       "        vertical-align: middle;\n",
       "    }\n",
       "\n",
       "    .dataframe tbody tr th {\n",
       "        vertical-align: top;\n",
       "    }\n",
       "\n",
       "    .dataframe thead th {\n",
       "        text-align: right;\n",
       "    }\n",
       "</style>\n",
       "<table border=\"1\" class=\"dataframe\">\n",
       "  <thead>\n",
       "    <tr style=\"text-align: right;\">\n",
       "      <th></th>\n",
       "      <th>station id</th>\n",
       "      <th>station name</th>\n",
       "      <th>latitude</th>\n",
       "      <th>longitude</th>\n",
       "      <th>geometry</th>\n",
       "    </tr>\n",
       "  </thead>\n",
       "  <tbody>\n",
       "    <tr>\n",
       "      <th>0</th>\n",
       "      <td>115</td>\n",
       "      <td>Porter Square Station</td>\n",
       "      <td>42.387995</td>\n",
       "      <td>-71.119084</td>\n",
       "      <td>POINT (-71.11908 42.38799)</td>\n",
       "    </tr>\n",
       "    <tr>\n",
       "      <th>1</th>\n",
       "      <td>80</td>\n",
       "      <td>MIT Stata Center at Vassar St / Main St</td>\n",
       "      <td>42.362131</td>\n",
       "      <td>-71.091156</td>\n",
       "      <td>POINT (-71.09116 42.36213)</td>\n",
       "    </tr>\n",
       "    <tr>\n",
       "      <th>2</th>\n",
       "      <td>91</td>\n",
       "      <td>One Kendall Square at Hampshire St / Portland St</td>\n",
       "      <td>42.366277</td>\n",
       "      <td>-71.091690</td>\n",
       "      <td>POINT (-71.09169 42.36628)</td>\n",
       "    </tr>\n",
       "    <tr>\n",
       "      <th>3</th>\n",
       "      <td>105</td>\n",
       "      <td>Lower Cambridgeport at Magazine St / Riverside Rd</td>\n",
       "      <td>42.357219</td>\n",
       "      <td>-71.113872</td>\n",
       "      <td>POINT (-71.11387 42.35722)</td>\n",
       "    </tr>\n",
       "    <tr>\n",
       "      <th>4</th>\n",
       "      <td>88</td>\n",
       "      <td>Inman Square at Vellucci Plaza / Hampshire St</td>\n",
       "      <td>42.374035</td>\n",
       "      <td>-71.101427</td>\n",
       "      <td>POINT (-71.10143 42.37403)</td>\n",
       "    </tr>\n",
       "    <tr>\n",
       "      <th>...</th>\n",
       "      <td>...</td>\n",
       "      <td>...</td>\n",
       "      <td>...</td>\n",
       "      <td>...</td>\n",
       "      <td>...</td>\n",
       "    </tr>\n",
       "    <tr>\n",
       "      <th>380</th>\n",
       "      <td>441</td>\n",
       "      <td>Sullivan Square</td>\n",
       "      <td>42.384452</td>\n",
       "      <td>-71.075149</td>\n",
       "      <td>POINT (-71.07515 42.38445)</td>\n",
       "    </tr>\n",
       "    <tr>\n",
       "      <th>381</th>\n",
       "      <td>443</td>\n",
       "      <td>Whittier St Health Center</td>\n",
       "      <td>42.332863</td>\n",
       "      <td>-71.092189</td>\n",
       "      <td>POINT (-71.09219 42.33286)</td>\n",
       "    </tr>\n",
       "    <tr>\n",
       "      <th>382</th>\n",
       "      <td>442</td>\n",
       "      <td>Hyde Park Ave at Walk Hill St</td>\n",
       "      <td>42.296067</td>\n",
       "      <td>-71.116012</td>\n",
       "      <td>POINT (-71.11601 42.29607)</td>\n",
       "    </tr>\n",
       "    <tr>\n",
       "      <th>383</th>\n",
       "      <td>446</td>\n",
       "      <td>700 Commonwealth Ave.</td>\n",
       "      <td>42.349609</td>\n",
       "      <td>-71.103915</td>\n",
       "      <td>POINT (-71.10392 42.34961)</td>\n",
       "    </tr>\n",
       "    <tr>\n",
       "      <th>384</th>\n",
       "      <td>445</td>\n",
       "      <td>Geiger Gibson Community Health Center</td>\n",
       "      <td>42.318865</td>\n",
       "      <td>-71.045368</td>\n",
       "      <td>POINT (-71.04537 42.31886)</td>\n",
       "    </tr>\n",
       "  </tbody>\n",
       "</table>\n",
       "<p>381 rows × 5 columns</p>\n",
       "</div>"
      ],
      "text/plain": [
       "     station id                                       station name   latitude  \\\n",
       "0           115                              Porter Square Station  42.387995   \n",
       "1            80            MIT Stata Center at Vassar St / Main St  42.362131   \n",
       "2            91   One Kendall Square at Hampshire St / Portland St  42.366277   \n",
       "3           105  Lower Cambridgeport at Magazine St / Riverside Rd  42.357219   \n",
       "4            88      Inman Square at Vellucci Plaza / Hampshire St  42.374035   \n",
       "..          ...                                                ...        ...   \n",
       "380         441                                    Sullivan Square  42.384452   \n",
       "381         443                          Whittier St Health Center  42.332863   \n",
       "382         442                      Hyde Park Ave at Walk Hill St  42.296067   \n",
       "383         446                              700 Commonwealth Ave.  42.349609   \n",
       "384         445              Geiger Gibson Community Health Center  42.318865   \n",
       "\n",
       "     longitude                    geometry  \n",
       "0   -71.119084  POINT (-71.11908 42.38799)  \n",
       "1   -71.091156  POINT (-71.09116 42.36213)  \n",
       "2   -71.091690  POINT (-71.09169 42.36628)  \n",
       "3   -71.113872  POINT (-71.11387 42.35722)  \n",
       "4   -71.101427  POINT (-71.10143 42.37403)  \n",
       "..         ...                         ...  \n",
       "380 -71.075149  POINT (-71.07515 42.38445)  \n",
       "381 -71.092189  POINT (-71.09219 42.33286)  \n",
       "382 -71.116012  POINT (-71.11601 42.29607)  \n",
       "383 -71.103915  POINT (-71.10392 42.34961)  \n",
       "384 -71.045368  POINT (-71.04537 42.31886)  \n",
       "\n",
       "[381 rows x 5 columns]"
      ]
     },
     "execution_count": 35,
     "metadata": {},
     "output_type": "execute_result"
    }
   ],
   "source": [
    "stations_gdf"
   ]
  },
  {
   "cell_type": "code",
   "execution_count": 36,
   "id": "ad31b503",
   "metadata": {},
   "outputs": [],
   "source": [
    "stations_gdf = stations_gdf.set_crs(epsg=9001)"
   ]
  },
  {
   "cell_type": "code",
   "execution_count": 37,
   "id": "540d60d8",
   "metadata": {
    "scrolled": false
   },
   "outputs": [
    {
     "data": {
      "text/plain": [
       "<AxesSubplot:>"
      ]
     },
     "execution_count": 37,
     "metadata": {},
     "output_type": "execute_result"
    },
    {
     "data": {
      "image/png": "[encoded data removed]",
      "text/plain": [
       "<Figure size 864x864 with 1 Axes>"
      ]
     },
     "metadata": {
      "needs_background": "light"
     },
     "output_type": "display_data"
    }
   ],
   "source": [
    "stations_gdf.plot(figsize=(12,12))"
   ]
  },
  {
   "cell_type": "code",
   "execution_count": 38,
   "id": "a76945a9",
   "metadata": {
    "scrolled": true
   },
   "outputs": [
    {
     "name": "stderr",
     "output_type": "stream",
     "text": [
      "C:\\Users\\casey\\AppData\\Local\\Temp\\ipykernel_10360\\4081733794.py:1: UserWarning: Column names longer than 10 characters will be truncated when saved to ESRI Shapefile.\n",
      "  stations_gdf.to_file(\"../Data_Clean/stations_all.shp\")\n"
     ]
    }
   ],
   "source": [
    "stations_gdf.to_file(\"../Data_Clean/stations_all.shp\") "
   ]
  },
  {
   "cell_type": "markdown",
   "id": "9ab2853d",
   "metadata": {},
   "source": [
    "## Step 2: Create new variables"
   ]
  },
  {
   "cell_type": "code",
   "execution_count": 16,
   "id": "6f8c7f35",
   "metadata": {},
   "outputs": [
    {
     "ename": "ParserError",
     "evalue": "Error tokenizing data. C error: Calling read(nbytes) on source failed. Try engine='python'.",
     "output_type": "error",
     "traceback": [
      "\u001b[1;31m---------------------------------------------------------------------------\u001b[0m",
      "\u001b[1;31mParserError\u001b[0m                               Traceback (most recent call last)",
      "Cell \u001b[1;32mIn [16], line 1\u001b[0m\n\u001b[1;32m----> 1\u001b[0m df \u001b[38;5;241m=\u001b[39m \u001b[43mpd\u001b[49m\u001b[38;5;241;43m.\u001b[39;49m\u001b[43mread_csv\u001b[49m\u001b[43m(\u001b[49m\u001b[38;5;124;43m'\u001b[39;49m\u001b[38;5;124;43m../Data_Clean/trips_cleaned.csv\u001b[39;49m\u001b[38;5;124;43m'\u001b[39;49m\u001b[43m)\u001b[49m\n\u001b[0;32m      2\u001b[0m \u001b[38;5;66;03m# stations = gpd.read_file('stations_0322.shp')\u001b[39;00m\n",
      "File \u001b[1;32m~\\.conda\\envs\\r-tutorial\\Lib\\site-packages\\pandas\\util\\_decorators.py:211\u001b[0m, in \u001b[0;36mdeprecate_kwarg.<locals>._deprecate_kwarg.<locals>.wrapper\u001b[1;34m(*args, **kwargs)\u001b[0m\n\u001b[0;32m    209\u001b[0m     \u001b[38;5;28;01melse\u001b[39;00m:\n\u001b[0;32m    210\u001b[0m         kwargs[new_arg_name] \u001b[38;5;241m=\u001b[39m new_arg_value\n\u001b[1;32m--> 211\u001b[0m \u001b[38;5;28;01mreturn\u001b[39;00m \u001b[43mfunc\u001b[49m\u001b[43m(\u001b[49m\u001b[38;5;241;43m*\u001b[39;49m\u001b[43margs\u001b[49m\u001b[43m,\u001b[49m\u001b[43m \u001b[49m\u001b[38;5;241;43m*\u001b[39;49m\u001b[38;5;241;43m*\u001b[39;49m\u001b[43mkwargs\u001b[49m\u001b[43m)\u001b[49m\n",
      "File \u001b[1;32m~\\.conda\\envs\\r-tutorial\\Lib\\site-packages\\pandas\\util\\_decorators.py:331\u001b[0m, in \u001b[0;36mdeprecate_nonkeyword_arguments.<locals>.decorate.<locals>.wrapper\u001b[1;34m(*args, **kwargs)\u001b[0m\n\u001b[0;32m    325\u001b[0m \u001b[38;5;28;01mif\u001b[39;00m \u001b[38;5;28mlen\u001b[39m(args) \u001b[38;5;241m>\u001b[39m num_allow_args:\n\u001b[0;32m    326\u001b[0m     warnings\u001b[38;5;241m.\u001b[39mwarn(\n\u001b[0;32m    327\u001b[0m         msg\u001b[38;5;241m.\u001b[39mformat(arguments\u001b[38;5;241m=\u001b[39m_format_argument_list(allow_args)),\n\u001b[0;32m    328\u001b[0m         \u001b[38;5;167;01mFutureWarning\u001b[39;00m,\n\u001b[0;32m    329\u001b[0m         stacklevel\u001b[38;5;241m=\u001b[39mfind_stack_level(),\n\u001b[0;32m    330\u001b[0m     )\n\u001b[1;32m--> 331\u001b[0m \u001b[38;5;28;01mreturn\u001b[39;00m \u001b[43mfunc\u001b[49m\u001b[43m(\u001b[49m\u001b[38;5;241;43m*\u001b[39;49m\u001b[43margs\u001b[49m\u001b[43m,\u001b[49m\u001b[43m \u001b[49m\u001b[38;5;241;43m*\u001b[39;49m\u001b[38;5;241;43m*\u001b[39;49m\u001b[43mkwargs\u001b[49m\u001b[43m)\u001b[49m\n",
      "File \u001b[1;32m~\\.conda\\envs\\r-tutorial\\Lib\\site-packages\\pandas\\io\\parsers\\readers.py:950\u001b[0m, in \u001b[0;36mread_csv\u001b[1;34m(filepath_or_buffer, sep, delimiter, header, names, index_col, usecols, squeeze, prefix, mangle_dupe_cols, dtype, engine, converters, true_values, false_values, skipinitialspace, skiprows, skipfooter, nrows, na_values, keep_default_na, na_filter, verbose, skip_blank_lines, parse_dates, infer_datetime_format, keep_date_col, date_parser, dayfirst, cache_dates, iterator, chunksize, compression, thousands, decimal, lineterminator, quotechar, quoting, doublequote, escapechar, comment, encoding, encoding_errors, dialect, error_bad_lines, warn_bad_lines, on_bad_lines, delim_whitespace, low_memory, memory_map, float_precision, storage_options)\u001b[0m\n\u001b[0;32m    935\u001b[0m kwds_defaults \u001b[38;5;241m=\u001b[39m _refine_defaults_read(\n\u001b[0;32m    936\u001b[0m     dialect,\n\u001b[0;32m    937\u001b[0m     delimiter,\n\u001b[1;32m   (...)\u001b[0m\n\u001b[0;32m    946\u001b[0m     defaults\u001b[38;5;241m=\u001b[39m{\u001b[38;5;124m\"\u001b[39m\u001b[38;5;124mdelimiter\u001b[39m\u001b[38;5;124m\"\u001b[39m: \u001b[38;5;124m\"\u001b[39m\u001b[38;5;124m,\u001b[39m\u001b[38;5;124m\"\u001b[39m},\n\u001b[0;32m    947\u001b[0m )\n\u001b[0;32m    948\u001b[0m kwds\u001b[38;5;241m.\u001b[39mupdate(kwds_defaults)\n\u001b[1;32m--> 950\u001b[0m \u001b[38;5;28;01mreturn\u001b[39;00m \u001b[43m_read\u001b[49m\u001b[43m(\u001b[49m\u001b[43mfilepath_or_buffer\u001b[49m\u001b[43m,\u001b[49m\u001b[43m \u001b[49m\u001b[43mkwds\u001b[49m\u001b[43m)\u001b[49m\n",
      "File \u001b[1;32m~\\.conda\\envs\\r-tutorial\\Lib\\site-packages\\pandas\\io\\parsers\\readers.py:611\u001b[0m, in \u001b[0;36m_read\u001b[1;34m(filepath_or_buffer, kwds)\u001b[0m\n\u001b[0;32m    608\u001b[0m     \u001b[38;5;28;01mreturn\u001b[39;00m parser\n\u001b[0;32m    610\u001b[0m \u001b[38;5;28;01mwith\u001b[39;00m parser:\n\u001b[1;32m--> 611\u001b[0m     \u001b[38;5;28;01mreturn\u001b[39;00m \u001b[43mparser\u001b[49m\u001b[38;5;241;43m.\u001b[39;49m\u001b[43mread\u001b[49m\u001b[43m(\u001b[49m\u001b[43mnrows\u001b[49m\u001b[43m)\u001b[49m\n",
      "File \u001b[1;32m~\\.conda\\envs\\r-tutorial\\Lib\\site-packages\\pandas\\io\\parsers\\readers.py:1778\u001b[0m, in \u001b[0;36mTextFileReader.read\u001b[1;34m(self, nrows)\u001b[0m\n\u001b[0;32m   1771\u001b[0m nrows \u001b[38;5;241m=\u001b[39m validate_integer(\u001b[38;5;124m\"\u001b[39m\u001b[38;5;124mnrows\u001b[39m\u001b[38;5;124m\"\u001b[39m, nrows)\n\u001b[0;32m   1772\u001b[0m \u001b[38;5;28;01mtry\u001b[39;00m:\n\u001b[0;32m   1773\u001b[0m     \u001b[38;5;66;03m# error: \"ParserBase\" has no attribute \"read\"\u001b[39;00m\n\u001b[0;32m   1774\u001b[0m     (\n\u001b[0;32m   1775\u001b[0m         index,\n\u001b[0;32m   1776\u001b[0m         columns,\n\u001b[0;32m   1777\u001b[0m         col_dict,\n\u001b[1;32m-> 1778\u001b[0m     ) \u001b[38;5;241m=\u001b[39m \u001b[38;5;28;43mself\u001b[39;49m\u001b[38;5;241;43m.\u001b[39;49m\u001b[43m_engine\u001b[49m\u001b[38;5;241;43m.\u001b[39;49m\u001b[43mread\u001b[49m\u001b[43m(\u001b[49m\u001b[43m  \u001b[49m\u001b[38;5;66;43;03m# type: ignore[attr-defined]\u001b[39;49;00m\n\u001b[0;32m   1779\u001b[0m \u001b[43m        \u001b[49m\u001b[43mnrows\u001b[49m\n\u001b[0;32m   1780\u001b[0m \u001b[43m    \u001b[49m\u001b[43m)\u001b[49m\n\u001b[0;32m   1781\u001b[0m \u001b[38;5;28;01mexcept\u001b[39;00m \u001b[38;5;167;01mException\u001b[39;00m:\n\u001b[0;32m   1782\u001b[0m     \u001b[38;5;28mself\u001b[39m\u001b[38;5;241m.\u001b[39mclose()\n",
      "File \u001b[1;32m~\\.conda\\envs\\r-tutorial\\Lib\\site-packages\\pandas\\io\\parsers\\c_parser_wrapper.py:230\u001b[0m, in \u001b[0;36mCParserWrapper.read\u001b[1;34m(self, nrows)\u001b[0m\n\u001b[0;32m    228\u001b[0m \u001b[38;5;28;01mtry\u001b[39;00m:\n\u001b[0;32m    229\u001b[0m     \u001b[38;5;28;01mif\u001b[39;00m \u001b[38;5;28mself\u001b[39m\u001b[38;5;241m.\u001b[39mlow_memory:\n\u001b[1;32m--> 230\u001b[0m         chunks \u001b[38;5;241m=\u001b[39m \u001b[38;5;28;43mself\u001b[39;49m\u001b[38;5;241;43m.\u001b[39;49m\u001b[43m_reader\u001b[49m\u001b[38;5;241;43m.\u001b[39;49m\u001b[43mread_low_memory\u001b[49m\u001b[43m(\u001b[49m\u001b[43mnrows\u001b[49m\u001b[43m)\u001b[49m\n\u001b[0;32m    231\u001b[0m         \u001b[38;5;66;03m# destructive to chunks\u001b[39;00m\n\u001b[0;32m    232\u001b[0m         data \u001b[38;5;241m=\u001b[39m _concatenate_chunks(chunks)\n",
      "File \u001b[1;32m~\\.conda\\envs\\r-tutorial\\Lib\\site-packages\\pandas\\_libs\\parsers.pyx:808\u001b[0m, in \u001b[0;36mpandas._libs.parsers.TextReader.read_low_memory\u001b[1;34m()\u001b[0m\n",
      "File \u001b[1;32m~\\.conda\\envs\\r-tutorial\\Lib\\site-packages\\pandas\\_libs\\parsers.pyx:866\u001b[0m, in \u001b[0;36mpandas._libs.parsers.TextReader._read_rows\u001b[1;34m()\u001b[0m\n",
      "File \u001b[1;32m~\\.conda\\envs\\r-tutorial\\Lib\\site-packages\\pandas\\_libs\\parsers.pyx:852\u001b[0m, in \u001b[0;36mpandas._libs.parsers.TextReader._tokenize_rows\u001b[1;34m()\u001b[0m\n",
      "File \u001b[1;32m~\\.conda\\envs\\r-tutorial\\Lib\\site-packages\\pandas\\_libs\\parsers.pyx:1973\u001b[0m, in \u001b[0;36mpandas._libs.parsers.raise_parser_error\u001b[1;34m()\u001b[0m\n",
      "\u001b[1;31mParserError\u001b[0m: Error tokenizing data. C error: Calling read(nbytes) on source failed. Try engine='python'."
     ]
    }
   ],
   "source": [
    "# df = pd.read_csv('../Data_Clean/trips_cleaned.csv')\n",
    "# stations = gpd.read_file(\"../Data_Clean/stations_all.shp\")"
   ]
  },
  {
   "cell_type": "markdown",
   "id": "580da884",
   "metadata": {},
   "source": [
    "### 2.1 Age"
   ]
  },
  {
   "cell_type": "code",
   "execution_count": 19,
   "id": "188c21eb",
   "metadata": {},
   "outputs": [
    {
     "data": {
      "text/plain": [
       "['tripduration',\n",
       " 'starttime',\n",
       " 'stoptime',\n",
       " 'start station id',\n",
       " 'start station name',\n",
       " 'start station latitude',\n",
       " 'start station longitude',\n",
       " 'end station id',\n",
       " 'end station name',\n",
       " 'end station latitude',\n",
       " 'end station longitude',\n",
       " 'bikeid',\n",
       " 'usertype',\n",
       " 'birth year',\n",
       " 'gender',\n",
       " 'o_time',\n",
       " 'o_minofday',\n",
       " 'o_dayofweek',\n",
       " 'o_hour']"
      ]
     },
     "execution_count": 19,
     "metadata": {},
     "output_type": "execute_result"
    }
   ],
   "source": [
    "list(trips.columns)"
   ]
  },
  {
   "cell_type": "code",
   "execution_count": 47,
   "id": "95a4908e",
   "metadata": {},
   "outputs": [],
   "source": [
    "def age(df):\n",
    "    list = []\n",
    "    group_names = {\n",
    "            '1996': \"Gen Z\", \n",
    "            '1981': \"Millenials\",\n",
    "            '1965': \"Generation X\",\n",
    "            '1946': \"Baby Boomers\",\n",
    "            '1928': \"Silent Generation\"\n",
    "        }\n",
    "    for row in df.index:\n",
    "        birthyear = df.iloc[row,13]\n",
    "        int_year = int(birthyear)\n",
    "        if int_year >= 1996:\n",
    "            x = group_names['1996']\n",
    "        elif 1981 <= birthyear < 1996:\n",
    "            x = group_names['1981']\n",
    "        elif 1965 <= birthyear < 1981:\n",
    "            x = group_names['1965']\n",
    "        elif 1946 <= birthyear < 1965:\n",
    "            x = group_names['1946']\n",
    "        elif 1928 <= birthyear < 1946:\n",
    "            x = group_names['1928']\n",
    "        else: \n",
    "            x = \"Other\"\n",
    "        list.append(x)\n",
    "    return list"
   ]
  },
  {
   "cell_type": "code",
   "execution_count": 48,
   "id": "7c2a47c5",
   "metadata": {},
   "outputs": [],
   "source": [
    "trips['age'] = age(trips)"
   ]
  },
  {
   "cell_type": "code",
   "execution_count": 40,
   "id": "cd70c3bd",
   "metadata": {},
   "outputs": [],
   "source": [
    "list = []\n",
    "group_names = {\n",
    "        '1996': \"Gen Z\", \n",
    "        '1981': \"Millenials\",\n",
    "        '1965': \"Generation X\",\n",
    "        '1946': \"Baby Boomers\",\n",
    "        '1928': \"Silent Generation\"\n",
    "        }"
   ]
  },
  {
   "cell_type": "code",
   "execution_count": 46,
   "id": "ced7517a",
   "metadata": {},
   "outputs": [
    {
     "name": "stdout",
     "output_type": "stream",
     "text": [
      "1985.0\n",
      "1974.0\n",
      "1987.0\n",
      "1986.0\n",
      "1989.0\n",
      "1964.0\n",
      "1981.0\n",
      "1989.0\n",
      "1993.0\n"
     ]
    }
   ],
   "source": [
    "for row in trips.index[1:10]:\n",
    "        birthyear = trips.iloc[row,13]\n",
    "        print(birthyear)\n",
    "        int_year = int(birthyear)\n",
    "        if int_year >= 1996:\n",
    "            x = group_names['1996']\n",
    "        elif 1981 <= birthyear < 1996:\n",
    "            x = group_names['1981']\n",
    "        elif 1965 <= birthyear < 1981:\n",
    "            x = group_names['1965']\n",
    "        elif 1946 <= birthyear < 1965:\n",
    "            x = group_names['1946']\n",
    "        elif 1928 <= birthyear < 1946:\n",
    "            x = group_names['1928']\n",
    "        else: \n",
    "            x = \"Other\"\n",
    "        list.append(x)"
   ]
  },
  {
   "cell_type": "code",
   "execution_count": 59,
   "id": "3aeaa925",
   "metadata": {},
   "outputs": [
    {
     "data": {
      "text/plain": [
       "Index(['tripduration', 'starttime', 'stoptime', 'start station id',\n",
       "       'start station name', 'start station latitude',\n",
       "       'start station longitude', 'end station id', 'end station name',\n",
       "       'end station latitude', 'end station longitude', 'bikeid', 'usertype',\n",
       "       'birth year', 'gender', 'o_time', 'o_minofday', 'o_dayofweek', 'o_hour',\n",
       "       'age'],\n",
       "      dtype='object')"
      ]
     },
     "execution_count": 59,
     "metadata": {},
     "output_type": "execute_result"
    }
   ],
   "source": [
    "trips.columns"
   ]
  },
  {
   "cell_type": "markdown",
   "id": "635ba43c",
   "metadata": {},
   "source": [
    "### 2.2 Time Period"
   ]
  },
  {
   "cell_type": "code",
   "execution_count": 62,
   "id": "ef828547",
   "metadata": {},
   "outputs": [],
   "source": [
    "def time_period(df):\n",
    "    list = []\n",
    "    group_names = {\n",
    "            1: \"AM\", \n",
    "            2: \"Midday\",\n",
    "            3: \"PM\",\n",
    "            4: \"Evening\",\n",
    "            5: \"Night\"\n",
    "        }\n",
    "    for ind in df.index:\n",
    "        count=1\n",
    "        hour = df.iloc[ind,18]\n",
    "        hour = int(hour)\n",
    "        if 7 <= hour < 10:\n",
    "            x = group_names[1]\n",
    "        elif 10 <= hour < 16:\n",
    "            x = group_names[2]\n",
    "        elif 16 <= hour < 20:\n",
    "            x = group_names[3]\n",
    "        elif 20 <= hour < 24:\n",
    "            x = group_names[4]\n",
    "        elif 0 <= hour < 7:\n",
    "            x = group_names[5]    \n",
    "        else: \n",
    "            x = \"Other\"\n",
    "        list.append(x)\n",
    "    return list"
   ]
  },
  {
   "cell_type": "code",
   "execution_count": 63,
   "id": "9e9ae80a",
   "metadata": {},
   "outputs": [],
   "source": [
    "trips['period'] = time_period(trips)"
   ]
  },
  {
   "cell_type": "markdown",
   "id": "b36a492c",
   "metadata": {},
   "source": [
    "### 2.3 Day of the Week"
   ]
  },
  {
   "cell_type": "code",
   "execution_count": 64,
   "id": "7b5d876f",
   "metadata": {},
   "outputs": [],
   "source": [
    "def day(df):\n",
    "    list = []\n",
    "    group_names = {\n",
    "            1: \"Weekday\", \n",
    "            2: \"Weekend\"\n",
    "        }\n",
    "    for ind in df.index:\n",
    "        count=1\n",
    "        day = df.iloc[ind,17]\n",
    "        day = int(day)\n",
    "        if day in [6,7]:\n",
    "            x = group_names[2]\n",
    "        else: \n",
    "            x = group_names[1]\n",
    "        list.append(x)\n",
    "    return list"
   ]
  },
  {
   "cell_type": "code",
   "execution_count": 65,
   "id": "35684515",
   "metadata": {},
   "outputs": [],
   "source": [
    "trips['day'] = day(trips)"
   ]
  },
  {
   "cell_type": "code",
   "execution_count": 78,
   "id": "03903bd0",
   "metadata": {},
   "outputs": [
    {
     "data": {
      "text/plain": [
       "6765411"
      ]
     },
     "execution_count": 78,
     "metadata": {},
     "output_type": "execute_result"
    }
   ],
   "source": [
    "len(trips)"
   ]
  },
  {
   "cell_type": "code",
   "execution_count": 79,
   "id": "630c3914",
   "metadata": {},
   "outputs": [],
   "source": [
    "trips.to_csv(\"../Data_Clean/trips_cleaned_new.csv\", index=False)"
   ]
  },
  {
   "cell_type": "markdown",
   "id": "c88a4736",
   "metadata": {},
   "source": [
    "## Step 3: Aggregate Data\n",
    "### 3.1 Create functions to group data"
   ]
  },
  {
   "cell_type": "code",
   "execution_count": 70,
   "id": "859d86b4",
   "metadata": {},
   "outputs": [],
   "source": [
    "def group(df, col, agg):\n",
    "    df1 = df.groupby(col).agg({agg:'count'}).rename(columns = {agg:'n'}).reset_index()\n",
    "    df1['%'] = (df1.n/sum(df1.n)*100).round(2)\n",
    "    return df1"
   ]
  },
  {
   "cell_type": "code",
   "execution_count": 69,
   "id": "1e34aaa6",
   "metadata": {},
   "outputs": [],
   "source": [
    "def gender_group(df, col, agg):\n",
    "    if isinstance(col, list):\n",
    "        cols = col.copy()\n",
    "        cols += ['gender']\n",
    "    else: \n",
    "        cols = ['gender']\n",
    "        cols += [col]\n",
    "    df1 = df.groupby(col).agg({agg:'count'})\n",
    "    df1 = df1.rename(columns = {agg:'total'}).reset_index()\n",
    "    df1_f = df[df['gender']=='female']\n",
    "    df1_f = df1_f.groupby(cols).agg({agg:'count'})\n",
    "    df1_f = df1_f.rename(columns = {agg:'subtotal'}).reset_index()\n",
    "    df1_f['g%'] = df1_f.subtotal/sum(df1_f.subtotal)*100\n",
    "    df1_m = df[df['gender']=='male']\n",
    "    df1_m = df1_m.groupby(cols).agg({agg:'count'})\n",
    "    df1_m = df1_m.rename(columns = {agg:'subtotal'}).reset_index()\n",
    "    df1_m['g%'] = df1_m.subtotal/sum(df1_m.subtotal)*100\n",
    "    df1_g = pd.merge(df1_f, df1_m, how='outer')\n",
    "    df1_g = df1_g.merge(df1, how='left')\n",
    "    df1_g['t%'] = (df1_g.subtotal/df1_g.total)*100\n",
    "    return df1_g"
   ]
  },
  {
   "cell_type": "code",
   "execution_count": null,
   "id": "53298760",
   "metadata": {},
   "outputs": [],
   "source": [
    "def period_group(df, col, agg):\n",
    "    if isinstance(col, list):\n",
    "        cols = col.copy()\n",
    "        cols += ['period']\n",
    "    else: \n",
    "        cols = ['period']\n",
    "        cols += [col]\n",
    "    df1 = df.groupby(col).agg({agg:'count'})\n",
    "    df1 = df1.rename(columns = {agg:'total'}).reset_index()\n",
    "    df1_AM = df[df['period']=='AM']\n",
    "    df1_AM = df1_AM.groupby(cols).agg({agg:'count'})\n",
    "    df1_AM = df1_AM.rename(columns = {agg:'subtotal'}).reset_index()\n",
    "    df1_AM['p%'] = df1_AM.subtotal/sum(df1_AM.subtotal)*100\n",
    "    df1_midday = df[df['period']=='Midday']\n",
    "    df1_midday = df1_midday.groupby(cols).agg({agg:'count'})\n",
    "    df1_midday = df1_midday.rename(columns = {agg:'subtotal'}).reset_index()\n",
    "    df1_midday['p%'] = df1_midday.subtotal/sum(df1_midday.subtotal)*100\n",
    "    df1_PM = df[df['period']=='PM']\n",
    "    df1_PM = df1_PM.groupby(cols).agg({agg:'count'})\n",
    "    df1_PM = df1_PM.rename(columns = {agg:'subtotal'}).reset_index()\n",
    "    df1_PM['p%'] = df1_PM.subtotal/sum(df1_PM.subtotal)*100\n",
    "    df1_evening = df[df['period']=='Evening']\n",
    "    df1_evening = df1_evening.groupby(cols).agg({agg:'count'})\n",
    "    df1_evening = df1_evening.rename(columns = {agg:'subtotal'}).reset_index()\n",
    "    df1_evening['p%'] = df1_evening.subtotal/sum(df1_evening.subtotal)*100\n",
    "    df1_night = df[df['period']=='Night']\n",
    "    df1_night = df1_night.groupby(cols).agg({agg:'count'})\n",
    "    df1_night = df1_night.rename(columns = {agg:'subtotal'}).reset_index()\n",
    "    df1_night['p%'] = df1_night.subtotal/sum(df1_night.subtotal)*100\n",
    "    df1_p = pd.merge(df1_AM, df1_midday, how='outer')\n",
    "    df1_p = pd.merge(df1_p, df1_PM, how='outer')\n",
    "    df1_p = pd.merge(df1_p, df1_evening, how='outer')\n",
    "    df1_p = pd.merge(df1_p, df1_night, how='outer')\n",
    "    df1_p = df1_p.merge(df1, how='outer')\n",
    "    df1_p['t%'] = (df1_p.subtotal/df1_p.total)*100\n",
    "    return df1_p"
   ]
  },
  {
   "cell_type": "code",
   "execution_count": null,
   "id": "2ec0dbf8",
   "metadata": {},
   "outputs": [],
   "source": [
    "age_time_gender = period_group(df, ['age', 'gender'], 'age')"
   ]
  },
  {
   "cell_type": "code",
   "execution_count": null,
   "id": "fd22bc20",
   "metadata": {},
   "outputs": [],
   "source": [
    "p=sns.barplot(x=\"period\", y='p%', hue='age', order=['AM', 'Midday', 'PM', 'Evening', 'Night'], data=age_time_gender[age_time_gender.gender=='female'])\n",
    "p.set_title('Female Trips By Time of Day and Age')\n",
    "for container in p.containers:\n",
    "    p.bar_label(container, fmt='%.f%%')"
   ]
  },
  {
   "cell_type": "code",
   "execution_count": null,
   "id": "d5e7e48c",
   "metadata": {},
   "outputs": [],
   "source": [
    "p=sns.barplot(x=\"period\", y='p%', hue='age', order=['AM', 'Midday', 'PM', 'Evening', 'Night'], data=age_time_gender[age_time_gender.gender=='male'])\n",
    "p.set_title('Male Trips By Time of Day and Age')\n",
    "for container in p.containers:\n",
    "    p.bar_label(container, fmt='%.f%%')"
   ]
  },
  {
   "cell_type": "code",
   "execution_count": null,
   "id": "83ad4ed7",
   "metadata": {},
   "outputs": [],
   "source": [
    "age_time= period_group(df, 'age', 'age')\n",
    "p=sns.barplot(x=\"period\", y='p%', hue='age', order=['AM', 'Midday', 'PM', 'Evening', 'Night'], data=age_time)\n",
    "p.set_title('Trips By Time of Day and Age')\n",
    "for container in p.containers:\n",
    "    p.bar_label(container, fmt='%.f%%')"
   ]
  },
  {
   "cell_type": "markdown",
   "id": "4c04698b",
   "metadata": {},
   "source": [
    "### Gender"
   ]
  },
  {
   "cell_type": "code",
   "execution_count": null,
   "id": "86eaed25",
   "metadata": {},
   "outputs": [],
   "source": [
    "departures_df = df.groupby('start station id').agg({'gender':'count'}).reset_index().rename(columns = {'gender':'departures'})\n",
    "arrivals_df = df.groupby('end station id').agg({'gender':'count'}).reset_index().rename(columns = {'gender':'arrivals'})"
   ]
  },
  {
   "cell_type": "code",
   "execution_count": null,
   "id": "97c79057",
   "metadata": {},
   "outputs": [],
   "source": [
    "female_departures = df[df['gender']=='female'].groupby('start station id').agg({'gender':'count'}).rename(columns = {'gender':'female_departures'}).reset_index()\n",
    "female_arrivals = df[df['gender']=='female'].groupby('end station id').agg({'gender':'count'}).rename(columns = {'gender':'female_arrivals'}).reset_index()\n",
    "male_departures = df[df['gender']=='male'].groupby('start station id').agg({'gender':'count'}).rename(columns = {'gender':'male_departures'}).reset_index()\n",
    "male_arrivals = df[df['gender']=='male'].groupby('end station id').agg({'gender':'count'}).rename(columns = {'gender':'male_arrivals'}).reset_index()"
   ]
  },
  {
   "cell_type": "code",
   "execution_count": null,
   "id": "7cfaf72b",
   "metadata": {},
   "outputs": [],
   "source": [
    "arrivals_df = arrivals_df.merge(female_arrivals)\n",
    "arrivals_df = arrivals_df.merge(male_arrivals)\n",
    "arrivals_df['arrival_trip_parity'] = arrivals_df.female_arrivals/arrivals_df.male_arrivals"
   ]
  },
  {
   "cell_type": "code",
   "execution_count": null,
   "id": "02065156",
   "metadata": {},
   "outputs": [],
   "source": [
    "departures_df = departures_df.merge(female_departures)\n",
    "departures_df = departures_df.merge(male_departures)\n",
    "departures_df['departure_trip_parity'] = departures_df.female_departures/departures_df.male_departures"
   ]
  },
  {
   "cell_type": "code",
   "execution_count": null,
   "id": "03024844",
   "metadata": {},
   "outputs": [],
   "source": [
    "df2 = station_locations.merge(arrivals_df, how='left', right_on='end station id', left_on='station id').reset_index(drop=True)"
   ]
  },
  {
   "cell_type": "code",
   "execution_count": null,
   "id": "58cb58e9",
   "metadata": {},
   "outputs": [],
   "source": [
    "df3 = df2.merge(departures_df, how='left', right_on='start station id', left_on='station id')"
   ]
  },
  {
   "cell_type": "code",
   "execution_count": null,
   "id": "2662fc6a",
   "metadata": {},
   "outputs": [],
   "source": [
    "df4 = df3.drop(columns=[\"end station id\", 'start station id'])"
   ]
  },
  {
   "cell_type": "code",
   "execution_count": null,
   "id": "2f5ad093",
   "metadata": {},
   "outputs": [],
   "source": [
    "df4.to_csv('../New Data Tables/stations_gender_parity.csv', index=False)"
   ]
  },
  {
   "cell_type": "code",
   "execution_count": null,
   "id": "6c670b4f",
   "metadata": {},
   "outputs": [],
   "source": [
    "sns.countplot(x=df[\"gender\"])"
   ]
  },
  {
   "cell_type": "code",
   "execution_count": null,
   "id": "9fd9ab09",
   "metadata": {},
   "outputs": [],
   "source": [
    "sns.countplot(x=df[\"age\"], order=['Gen Z', 'Millenials', 'Generation X', 'Baby Boomers', \"Silent Generation\", \"Other\"])"
   ]
  },
  {
   "cell_type": "code",
   "execution_count": null,
   "id": "edd221e6",
   "metadata": {},
   "outputs": [],
   "source": [
    "p=sns.countplot(x='age', hue='gender', order=['Gen Z', 'Millenials', 'Generation X', 'Baby Boomers', \"Silent Generation\", \"Other\"], data = df)\n",
    "p.set_title('Trips By Age and Gender')"
   ]
  },
  {
   "cell_type": "code",
   "execution_count": null,
   "id": "5c39a268",
   "metadata": {},
   "outputs": [],
   "source": [
    "trips_by_age_gender=gender_group(df, 'age', 'age')\n",
    "trips_by_age_gender"
   ]
  },
  {
   "cell_type": "code",
   "execution_count": null,
   "id": "b47d29e6",
   "metadata": {},
   "outputs": [],
   "source": [
    "p = sns.barplot(x='age', y='t%', hue='gender', order=['Gen Z', 'Millenials', 'Generation X', 'Baby Boomers', \"Silent Generation\", \"Other\"], data = trips_by_age_gender)\n",
    "p.set_title('Trip Parity By Age')\n",
    "for container in p.containers:\n",
    "    p.bar_label(container, fmt='%.f%%')"
   ]
  },
  {
   "cell_type": "code",
   "execution_count": null,
   "id": "b1f1721e",
   "metadata": {},
   "outputs": [],
   "source": [
    "p = sns.barplot(x='age', y='g%', hue='gender', order=['Gen Z', 'Millenials', 'Generation X', 'Baby Boomers', \"Silent Generation\", \"Other\"], data = trips_by_age_gender)\n",
    "p.set_title('Trips By Age and Gender')\n",
    "for container in p.containers:\n",
    "    p.bar_label(container, fmt='%.f%%')"
   ]
  },
  {
   "cell_type": "code",
   "execution_count": 80,
   "id": "0c740dc1",
   "metadata": {},
   "outputs": [
    {
     "data": {
      "text/plain": [
       "<AxesSubplot: xlabel='period', ylabel='count'>"
      ]
     },
     "execution_count": 80,
     "metadata": {},
     "output_type": "execute_result"
    },
    {
     "data": {
      "image/png": "[encoded data removed]",
      "text/plain": [
       "<Figure size 640x480 with 1 Axes>"
      ]
     },
     "metadata": {},
     "output_type": "display_data"
    }
   ],
   "source": [
    "sns.countplot(x=\"period\", hue='gender', order=['AM', 'Midday', 'PM', 'Evening', 'Night'], data=trips)"
   ]
  },
  {
   "cell_type": "code",
   "execution_count": 72,
   "id": "7896a855",
   "metadata": {},
   "outputs": [
    {
     "ename": "TypeError",
     "evalue": "isinstance() arg 2 must be a type, a tuple of types, or a union",
     "output_type": "error",
     "traceback": [
      "\u001b[1;31m---------------------------------------------------------------------------\u001b[0m",
      "\u001b[1;31mTypeError\u001b[0m                                 Traceback (most recent call last)",
      "Cell \u001b[1;32mIn [72], line 1\u001b[0m\n\u001b[1;32m----> 1\u001b[0m trips_by_time_gender\u001b[38;5;241m=\u001b[39m\u001b[43mgender_group\u001b[49m\u001b[43m(\u001b[49m\u001b[43mtrips\u001b[49m\u001b[43m,\u001b[49m\u001b[43m \u001b[49m\u001b[43m[\u001b[49m\u001b[38;5;124;43m'\u001b[39;49m\u001b[38;5;124;43mperiod\u001b[39;49m\u001b[38;5;124;43m'\u001b[39;49m\u001b[43m]\u001b[49m\u001b[43m,\u001b[49m\u001b[43m \u001b[49m\u001b[38;5;124;43m'\u001b[39;49m\u001b[38;5;124;43mperiod\u001b[39;49m\u001b[38;5;124;43m'\u001b[39;49m\u001b[43m)\u001b[49m\n\u001b[0;32m      2\u001b[0m trips_by_time_gender\n",
      "Cell \u001b[1;32mIn [69], line 2\u001b[0m, in \u001b[0;36mgender_group\u001b[1;34m(df, col, agg)\u001b[0m\n\u001b[0;32m      1\u001b[0m \u001b[38;5;28;01mdef\u001b[39;00m \u001b[38;5;21mgender_group\u001b[39m(df, col, agg):\n\u001b[1;32m----> 2\u001b[0m     \u001b[38;5;28;01mif\u001b[39;00m \u001b[38;5;28;43misinstance\u001b[39;49m\u001b[43m(\u001b[49m\u001b[43mcol\u001b[49m\u001b[43m,\u001b[49m\u001b[43m \u001b[49m\u001b[38;5;28;43mlist\u001b[39;49m\u001b[43m)\u001b[49m:\n\u001b[0;32m      3\u001b[0m         cols \u001b[38;5;241m=\u001b[39m col\u001b[38;5;241m.\u001b[39mcopy()\n\u001b[0;32m      4\u001b[0m         cols \u001b[38;5;241m+\u001b[39m\u001b[38;5;241m=\u001b[39m [\u001b[38;5;124m'\u001b[39m\u001b[38;5;124mgender\u001b[39m\u001b[38;5;124m'\u001b[39m]\n",
      "\u001b[1;31mTypeError\u001b[0m: isinstance() arg 2 must be a type, a tuple of types, or a union"
     ]
    }
   ],
   "source": [
    "trips_by_time_gender=gender_group(trips, ['period'], 'period')\n",
    "trips_by_time_gender"
   ]
  },
  {
   "cell_type": "code",
   "execution_count": null,
   "id": "89867b87",
   "metadata": {},
   "outputs": [],
   "source": [
    "p = sns.barplot(x='period', y='t%', hue='gender', order=['AM', 'Midday', 'PM', 'Evening', 'Night'], data = trips_by_time_gender)\n",
    "p.set_title('Trip Parity by Time of Day')\n",
    "for container in p.containers:\n",
    "    p.bar_label(container, fmt='%.f%%')"
   ]
  },
  {
   "cell_type": "code",
   "execution_count": null,
   "id": "9f15dcde",
   "metadata": {},
   "outputs": [],
   "source": [
    "p = sns.barplot(x='period', y='g%', hue='gender', order=['AM', 'Midday', 'PM', 'Evening', 'Night'], data = trips_by_time_gender)\n",
    "p.set_title('Percent of Trips By Gender By Time of Day')\n",
    "for container in p.containers:\n",
    "    p.bar_label(container, fmt='%.f%%')"
   ]
  },
  {
   "cell_type": "code",
   "execution_count": null,
   "id": "977c99e3",
   "metadata": {},
   "outputs": [],
   "source": [
    "trips_by_time_gender_age=gender_group(df, ['period', 'age'], 'period')\n",
    "trips_by_time_gender_age"
   ]
  },
  {
   "cell_type": "code",
   "execution_count": null,
   "id": "645450f0",
   "metadata": {},
   "outputs": [],
   "source": [
    "p = sns.barplot(x='period', y='t%', hue='gender', order=['AM', 'Midday', 'PM', 'Evening', 'Night'], data = trips_by_time_gender_age)\n",
    "p.set_title('Trips By Time of Day and Gender')\n",
    "for container in p.containers:\n",
    "    p.bar_label(container, fmt='%.f%%')"
   ]
  },
  {
   "cell_type": "code",
   "execution_count": null,
   "id": "8337dcf0",
   "metadata": {},
   "outputs": [],
   "source": [
    "def day_period(df):\n",
    "    list = []\n",
    "    group_names = {\n",
    "            1: \"Weekday\", \n",
    "            2: \"Weekend\"\n",
    "        }\n",
    "    for ind in df.index:\n",
    "        count=1\n",
    "        day = df.iloc[ind,18]\n",
    "        day = int(day)\n",
    "        if day in [6,7]:\n",
    "            x = group_names[2]\n",
    "        else: \n",
    "            x = group_names[1]\n",
    "        list.append(x)\n",
    "    return list"
   ]
  },
  {
   "cell_type": "code",
   "execution_count": null,
   "id": "93c52ebf",
   "metadata": {},
   "outputs": [],
   "source": [
    "df['day'] = day_period(df)"
   ]
  },
  {
   "cell_type": "code",
   "execution_count": null,
   "id": "e2b996bc",
   "metadata": {},
   "outputs": [],
   "source": [
    "gender_day = gender_group(df, 'day', 'day')\n",
    "p=sns.barplot(x=\"day\", y='t%', hue='gender', data=gender_day)\n",
    "p.set_title('Trips By Day of Week')\n",
    "for container in p.containers:\n",
    "    p.bar_label(container, fmt='%.f%%')"
   ]
  },
  {
   "cell_type": "code",
   "execution_count": null,
   "id": "fc1f41bf",
   "metadata": {},
   "outputs": [],
   "source": [
    "df1 = df.groupby(['day']).agg({'day':'count'}).rename(columns = {'day':'n'}).reset_index()\n",
    "df1"
   ]
  },
  {
   "cell_type": "code",
   "execution_count": null,
   "id": "de7da002",
   "metadata": {},
   "outputs": [],
   "source": [
    "sns.barplot(x=\"day\", y=\"n\", hue='gender', data=df1)"
   ]
  },
  {
   "cell_type": "markdown",
   "id": "09d0de47",
   "metadata": {},
   "source": [
    "# Exploratory Data Analysis"
   ]
  },
  {
   "cell_type": "code",
   "execution_count": null,
   "id": "dee7d65c",
   "metadata": {},
   "outputs": [],
   "source": [
    "df = pd.read_csv('bluebikes_trips_2015_2019.csv')"
   ]
  },
  {
   "cell_type": "code",
   "execution_count": null,
   "id": "c012c2f6",
   "metadata": {},
   "outputs": [],
   "source": [
    "df1 = df.groupby('gender').agg({'gender':'count'}).rename(columns = {'gender':'trips'}).reset_index()\n",
    "df1['portion'] = df1['trips']/(len(df))*100\n",
    "df1\n",
    "# 1,735,298 trips by women, accounting for 26 percent of all bikeshare trips in 2015-2019"
   ]
  },
  {
   "cell_type": "code",
   "execution_count": null,
   "id": "6a8d34fc",
   "metadata": {},
   "outputs": [],
   "source": [
    "p = sns.barplot(x='gender', y='portion', data = df1)\n",
    "p.set_title('Network-Wide Trip Parity')\n",
    "for container in p.containers:\n",
    "    p.bar_label(container, fmt='%.f%%')"
   ]
  },
  {
   "cell_type": "markdown",
   "id": "2e1be101",
   "metadata": {},
   "source": [
    "## Temporal Analysis"
   ]
  },
  {
   "cell_type": "code",
   "execution_count": null,
   "id": "695a4986",
   "metadata": {},
   "outputs": [],
   "source": [
    "# count the number of trips start by each hour\n",
    "o_trip_hour = df.groupby(['o_dayofweek','o_hour']).agg({'o_hour':'count'}).rename(columns = {'o_hour':'total'}).reset_index()"
   ]
  },
  {
   "cell_type": "code",
   "execution_count": null,
   "id": "01fd1fdf",
   "metadata": {},
   "outputs": [],
   "source": [
    "o_trip_hour['h_week']=o_trip_hour.index"
   ]
  },
  {
   "cell_type": "code",
   "execution_count": null,
   "id": "7de82c20",
   "metadata": {},
   "outputs": [],
   "source": [
    "o_trip_hour"
   ]
  },
  {
   "cell_type": "code",
   "execution_count": null,
   "id": "61d841ee",
   "metadata": {},
   "outputs": [],
   "source": [
    "ax = sns.lineplot(x=\"h_week\", y=\"total\", data=o_trip_hour).set(title='Trips by Hour of the Week')"
   ]
  },
  {
   "cell_type": "markdown",
   "id": "a31d3126",
   "metadata": {},
   "source": [
    "### Gender Analysis"
   ]
  },
  {
   "cell_type": "code",
   "execution_count": null,
   "id": "dbede9a1",
   "metadata": {},
   "outputs": [],
   "source": [
    "# count the number of trips start by each hour\n",
    "o_trip_hour2 = df.groupby(['o_dayofweek','o_hour', 'gender']).agg({'o_hour':'count'}).rename(columns = {'o_hour':'trips'}).reset_index()"
   ]
  },
  {
   "cell_type": "code",
   "execution_count": null,
   "id": "0b4b8a05",
   "metadata": {},
   "outputs": [],
   "source": [
    "x = range(0,168)\n",
    "o_trip_hour2['h_week'] = np.repeat(x,2)"
   ]
  },
  {
   "cell_type": "code",
   "execution_count": null,
   "id": "8714048a",
   "metadata": {},
   "outputs": [],
   "source": [
    "o_trip_hour = o_trip_hour.merge(o_trip_hour2)\n",
    "o_trip_hour[:5]"
   ]
  },
  {
   "cell_type": "markdown",
   "id": "a85300c8",
   "metadata": {},
   "source": [
    "<b> Trips by women have morning and afternoon peaks during the weekdays. Far fewer women are riding on the weekends than weekdays. Trips by men have even steeper weekday peaks in the AM and PM. Midday trips are about the same, regardless of the day of the week for men. "
   ]
  },
  {
   "cell_type": "code",
   "execution_count": null,
   "id": "3d0a22bb",
   "metadata": {
    "scrolled": true
   },
   "outputs": [],
   "source": [
    "ax = sns.lineplot(x=\"o_hour\", y=\"trips\", hue='o_dayofweek', data=o_trip_hour[o_trip_hour['gender']=='female']).set(title='Female Trips by the Hour of the Day and Day of the Week')"
   ]
  },
  {
   "cell_type": "code",
   "execution_count": null,
   "id": "e5b4896c",
   "metadata": {},
   "outputs": [],
   "source": [
    "ax = sns.lineplot(x=\"o_hour\", y=\"trips\", hue='o_dayofweek', data=o_trip_hour[o_trip_hour['gender']=='male']).set(title='Male Trips by the Hour of the Day and Day of the Week')"
   ]
  },
  {
   "cell_type": "code",
   "execution_count": null,
   "id": "ee856aac",
   "metadata": {},
   "outputs": [],
   "source": [
    "ax = sns.lineplot(x=\"h_week\", y=\"trips\", hue='gender', data=o_trip_hour).set(title='Trips by the Hour of the Week by Gender')"
   ]
  },
  {
   "cell_type": "code",
   "execution_count": null,
   "id": "6586a73c",
   "metadata": {},
   "outputs": [],
   "source": [
    " o_trip_hour['portion'] = o_trip_hour['trips']/o_trip_hour['total']"
   ]
  },
  {
   "cell_type": "code",
   "execution_count": null,
   "id": "7016fea5",
   "metadata": {},
   "outputs": [],
   "source": [
    "trip_parity = []\n",
    "for x in o_trip_hour.index:\n",
    "    if o_trip_hour.loc[x,'gender'] == 'female': \n",
    "        female = o_trip_hour.loc[x,'trips']\n",
    "        y=x+1\n",
    "        male = o_trip_hour.loc[y,'trips']\n",
    "        trip_parity.append(female/male)\n",
    "    elif o_trip_hour.loc[x,'gender'] == 'male': \n",
    "        male = o_trip_hour.loc[x,'trips']\n",
    "        y=x-1\n",
    "        female = o_trip_hour.loc[y,'trips']\n",
    "        trip_parity.append(female/male)\n",
    "o_trip_hour['trip_parity'] = trip_parity"
   ]
  },
  {
   "cell_type": "code",
   "execution_count": null,
   "id": "7b8a9a95",
   "metadata": {},
   "outputs": [],
   "source": [
    "ax = sns.lineplot(x=\"o_hour\", y=\"trips\", hue='gender', data=o_trip_hour)"
   ]
  },
  {
   "cell_type": "markdown",
   "id": "ca29df48",
   "metadata": {},
   "source": [
    "<b>Trip parity rates are highest on during the AM peak of weekdays and on the weekend. "
   ]
  },
  {
   "cell_type": "code",
   "execution_count": null,
   "id": "6f6a7c2f",
   "metadata": {},
   "outputs": [],
   "source": [
    "ax = sns.lineplot(x=\"h_week\", y=\"trip_parity\", data=o_trip_hour).set(title='Trip Parity by Hour of the Week')"
   ]
  },
  {
   "cell_type": "markdown",
   "id": "583db2e1",
   "metadata": {},
   "source": [
    "### Age Analysis"
   ]
  },
  {
   "cell_type": "code",
   "execution_count": null,
   "id": "966e880e",
   "metadata": {},
   "outputs": [],
   "source": [
    "# count the number of trips start by each hour\n",
    "o_trip_hour3 = df.groupby(['o_dayofweek','o_hour', 'age', 'gender']).agg({'o_hour':'count'}).rename(columns = {'o_hour':'trips'}).reset_index()"
   ]
  },
  {
   "cell_type": "code",
   "execution_count": null,
   "id": "1ead497e",
   "metadata": {},
   "outputs": [],
   "source": [
    "o_trip_hour3"
   ]
  },
  {
   "cell_type": "code",
   "execution_count": null,
   "id": "28946923",
   "metadata": {},
   "outputs": [],
   "source": [
    "o_trip_hour3 = o_trip_hour.merge(o_trip_hour3)\n",
    "o_trip_hour3[:5]"
   ]
  },
  {
   "cell_type": "code",
   "execution_count": null,
   "id": "448af9a3",
   "metadata": {},
   "outputs": [],
   "source": [
    "ax = sns.lineplot(x=\"o_hour\", y=\"trips\", hue='o_dayofweek', data=o_trip_hour3[o_trip_hour3['age']=='Millenials']).set(title='Millenial Trips by the Hour of the Day and Day of the Week')\n",
    "plt.yscale('log')"
   ]
  },
  {
   "cell_type": "code",
   "execution_count": null,
   "id": "2ff36eae",
   "metadata": {
    "scrolled": true
   },
   "outputs": [],
   "source": [
    "ax = sns.lineplot(x=\"o_hour\", y=\"trips\", hue=o_trip_hour3[['o_dayofweek', 'gender']].apply(tuple, axis=1), data=o_trip_hour3[o_trip_hour3['age']=='Millenials']).set(title='Millenial Trips by the Hour of the Day and Day of the Week')"
   ]
  },
  {
   "cell_type": "code",
   "execution_count": null,
   "id": "3ac2f43b",
   "metadata": {},
   "outputs": [],
   "source": [
    "ax = sns.lineplot(x=\"o_hour\", y=\"trips\", hue='o_dayofweek', data=o_trip_hour3[o_trip_hour3['age']=='Generation X']).set(title='Generation X Trips by the Hour of the Day and Day of the Week')"
   ]
  },
  {
   "cell_type": "code",
   "execution_count": null,
   "id": "33fae952",
   "metadata": {},
   "outputs": [],
   "source": [
    "len(o_trip_hour3[o_trip_hour3['age']=='Silent Generation'])"
   ]
  },
  {
   "cell_type": "code",
   "execution_count": null,
   "id": "8b504c5c",
   "metadata": {},
   "outputs": [],
   "source": [
    "ax = sns.lineplot(x=\"o_hour\", y=\"trips\", hue='o_dayofweek', data=o_trip_hour3[o_trip_hour3['age']=='Silent Generation']).set(title='Silent Generation Trips by the Hour of the Day and Day of the Week')"
   ]
  },
  {
   "cell_type": "code",
   "execution_count": null,
   "id": "25cdb9fe",
   "metadata": {},
   "outputs": [],
   "source": [
    "ax = sns.lineplot(x=\"o_hour\", y=\"trips\", hue='o_dayofweek', data=o_trip_hour3[o_trip_hour3['age']=='Baby Boomers']).set(title='Baby Boomers Trips by the Hour of the Day and Day of the Week')"
   ]
  },
  {
   "cell_type": "code",
   "execution_count": null,
   "id": "e3fce4ef",
   "metadata": {},
   "outputs": [],
   "source": [
    "df1 = df.groupby('age').agg({'age':'count'}).rename(columns = {'age':'total'})\n",
    "df1['portion'] = df1['total']/(len(df))\n",
    "df1\n",
    "# Millenials rode 62% of bikeshare trips in 2015-2019"
   ]
  },
  {
   "cell_type": "code",
   "execution_count": null,
   "id": "a0ee4a6b",
   "metadata": {},
   "outputs": [],
   "source": [
    "# count the number of trips start by each hour\n",
    "o_trip_hour3 = df.groupby(['o_dayofweek','o_hour']).agg({'o_hour':'count'}).rename(columns = {'o_hour':'total'}).reset_index()"
   ]
  },
  {
   "cell_type": "code",
   "execution_count": null,
   "id": "29fd20c2",
   "metadata": {},
   "outputs": [],
   "source": [
    "ax = sns.lineplot(x=\"o_hour\", y=\"trips\", hue='age', data=o_trip_hour3)"
   ]
  },
  {
   "cell_type": "code",
   "execution_count": null,
   "id": "251c01c7",
   "metadata": {},
   "outputs": [],
   "source": [
    "o_trip_hour3['portion_day'] = o_trip_hour3['trips']/o_trip_hour3['total']"
   ]
  },
  {
   "cell_type": "code",
   "execution_count": null,
   "id": "4d7b7576",
   "metadata": {},
   "outputs": [],
   "source": [
    "ax = sns.lineplot(x=\"o_hour\", y=\"portion_day\", hue='age', data=o_trip_hour3)"
   ]
  },
  {
   "cell_type": "code",
   "execution_count": null,
   "id": "5b554874",
   "metadata": {},
   "outputs": [],
   "source": [
    "o_trip_hour3['h_week']=o_trip_hour3.index"
   ]
  },
  {
   "cell_type": "code",
   "execution_count": null,
   "id": "cb44f9a5",
   "metadata": {},
   "outputs": [],
   "source": [
    "# count the number of trips start by each hour\n",
    "o_trip_hour4 = df.groupby(['o_dayofweek','o_hour', 'age']).agg({'o_hour':'count'}).rename(columns = {'o_hour':'trips'}).reset_index()"
   ]
  },
  {
   "cell_type": "code",
   "execution_count": null,
   "id": "402865e1",
   "metadata": {},
   "outputs": [],
   "source": [
    "o_trip_hour4"
   ]
  },
  {
   "cell_type": "code",
   "execution_count": null,
   "id": "18d5fd6e",
   "metadata": {},
   "outputs": [],
   "source": [
    "o_trip_hour3 = o_trip_hour3.merge(o_trip_hour4)\n",
    "o_trip_hour3[:5]"
   ]
  },
  {
   "cell_type": "code",
   "execution_count": null,
   "id": "d6fcb324",
   "metadata": {
    "scrolled": true
   },
   "outputs": [],
   "source": [
    "ax = sns.lineplot(x=\"o_hour\", y=\"trips\", hue='o_dayofweek', data=o_trip_hour[o_trip_hour3['age']=='Baby Boomers'])"
   ]
  },
  {
   "cell_type": "code",
   "execution_count": null,
   "id": "729282df",
   "metadata": {},
   "outputs": [],
   "source": [
    "ax = sns.lineplot(x=\"o_hour\", y=\"trips\", hue='o_dayofweek', data=o_trip_hour[o_trip_hour3['age']=='Millenials'])"
   ]
  },
  {
   "cell_type": "code",
   "execution_count": null,
   "id": "0b294fde",
   "metadata": {},
   "outputs": [],
   "source": [
    "ax = sns.lineplot(x=\"o_hour\", y=\"trips\", hue='o_dayofweek', data=o_trip_hour[o_trip_hour3['age']=='Generation X'])"
   ]
  },
  {
   "cell_type": "code",
   "execution_count": null,
   "id": "112033ed",
   "metadata": {},
   "outputs": [],
   "source": [
    "ax = sns.lineplot(x=\"o_hour\", y=\"trips\", hue='o_dayofweek', data=o_trip_hour[o_trip_hour3['age']=='Gen Z'])"
   ]
  },
  {
   "cell_type": "code",
   "execution_count": null,
   "id": "58da99b5",
   "metadata": {},
   "outputs": [],
   "source": [
    "ax = sns.lineplot(x=\"h_week\", y=\"trips\", hue='age', data=o_trip_hour3).set(title='Trips by the Hour of the Week by Age Group')"
   ]
  },
  {
   "cell_type": "code",
   "execution_count": null,
   "id": "6dcc19fc",
   "metadata": {},
   "outputs": [],
   "source": [
    "o_trip_hour5 = o_trip_hour3.merge(df1, on='age', how='left')\n",
    "o_trip_hour5.head(3)"
   ]
  },
  {
   "cell_type": "code",
   "execution_count": null,
   "id": "91319544",
   "metadata": {},
   "outputs": [],
   "source": [
    "o_trip_hour5['portion'] = o_trip_hour5['trips']/o_trip_hour5['total_y']"
   ]
  },
  {
   "cell_type": "code",
   "execution_count": null,
   "id": "1071fd28",
   "metadata": {},
   "outputs": [],
   "source": [
    "ax = sns.lineplot(x=\"h_week\", y=\"portion\", hue='age', data=o_trip_hour5)\n",
    "plt.yscale('log')"
   ]
  },
  {
   "cell_type": "code",
   "execution_count": null,
   "id": "679f2d50",
   "metadata": {},
   "outputs": [],
   "source": [
    "ax = sns.lineplot(x=\"o_hour\", y=\"trips\", hue='age', data=o_trip_hour5)"
   ]
  },
  {
   "cell_type": "code",
   "execution_count": null,
   "id": "420967cb",
   "metadata": {},
   "outputs": [],
   "source": []
  }
 ],
 "metadata": {
  "kernelspec": {
   "display_name": "Python 3 (ipykernel)",
   "language": "python",
   "name": "python3"
  },
  "language_info": {
   "codemirror_mode": {
    "name": "ipython",
    "version": 3
   },
   "file_extension": ".py",
   "mimetype": "text/x-python",
   "name": "python",
   "nbconvert_exporter": "python",
   "pygments_lexer": "ipython3",
   "version": "3.9.12"
  }
 },
 "nbformat": 4,
 "nbformat_minor": 5
}
