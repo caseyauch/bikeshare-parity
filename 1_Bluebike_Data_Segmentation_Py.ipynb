{
 "cells": [
  {
   "cell_type": "markdown",
   "id": "2e82327d",
   "metadata": {},
   "source": [
    "# Bikeshare & the Built Environment\n",
    "This Python notebook contains scripts used to subset and aggregate data for multiple regression analyses\n",
    "## Set Up"
   ]
  },
  {
   "cell_type": "code",
   "execution_count": 2,
   "id": "3cb2c655",
   "metadata": {},
   "outputs": [],
   "source": [
    "import requests, zipfile, io, pandas as pd, seaborn as sns, numpy as np, geopandas as gpd, matplotlib.pyplot as plt\n",
    "from shapely.geometry import point"
   ]
  },
  {
   "cell_type": "markdown",
   "id": "bd8502dd",
   "metadata": {},
   "source": [
    "## Import cleaned trip data"
   ]
  },
  {
   "cell_type": "code",
   "execution_count": 3,
   "id": "1d06e7d8",
   "metadata": {},
   "outputs": [],
   "source": [
    "df = pd.read_csv('../Data_Clean/trips_cleaned_new.csv')\n",
    "df = df.rename(columns={\"start station id\": \"start_id\", \"end station id\": \"end_id\"}).drop(df.columns[[0,1]], axis=1)"
   ]
  },
  {
   "cell_type": "code",
   "execution_count": 4,
   "id": "c44a6f27",
   "metadata": {},
   "outputs": [],
   "source": [
    "stations = pd.read_csv('../Data_Clean/station_locations.csv')"
   ]
  },
  {
   "cell_type": "markdown",
   "id": "297bc7df",
   "metadata": {},
   "source": [
    "## Aggregate trips by station location"
   ]
  },
  {
   "cell_type": "code",
   "execution_count": 5,
   "id": "69405890",
   "metadata": {},
   "outputs": [
    {
     "data": {
      "text/plain": [
       "381"
      ]
     },
     "execution_count": 5,
     "metadata": {},
     "output_type": "execute_result"
    }
   ],
   "source": [
    "station_list = pd.DataFrame(stations['station id'].unique())\n",
    "station_list = station_list.rename(columns={0:'station_id'})\n",
    "len(station_list)"
   ]
  },
  {
   "cell_type": "code",
   "execution_count": 6,
   "id": "3d124ac5",
   "metadata": {},
   "outputs": [],
   "source": [
    "def trips_by_station(df): \n",
    "    departures_df = df.groupby('start_id').agg({'gender':'count'}).reset_index().rename(columns = {'gender':'departures'})\n",
    "    arrivals_df = df.groupby('end_id').agg({'gender':'count'}).reset_index().rename(columns = {'gender':'arrivals'})\n",
    "    female_departures = df[df['gender']=='female'].groupby('start_id').agg({'gender':'count'}).rename(columns = {'gender':'female_departures'}).reset_index()\n",
    "    female_arrivals = df[df['gender']=='female'].groupby('end_id').agg({'gender':'count'}).rename(columns = {'gender':'female_arrivals'}).reset_index()\n",
    "    male_departures = df[df['gender']=='male'].groupby('start_id').agg({'gender':'count'}).rename(columns = {'gender':'male_departures'}).reset_index()\n",
    "    male_arrivals = df[df['gender']=='male'].groupby('end_id').agg({'gender':'count'}).rename(columns = {'gender':'male_arrivals'}).reset_index()\n",
    "    arrivals_df = arrivals_df.merge(female_arrivals)\n",
    "    arrivals_df = arrivals_df.merge(male_arrivals)\n",
    "    arrivals_df['arrival_trip_parity'] = arrivals_df.female_arrivals/arrivals_df.male_arrivals\n",
    "    departures_df = departures_df.merge(female_departures)\n",
    "    departures_df = departures_df.merge(male_departures)\n",
    "    departures_df['departure_trip_parity'] = departures_df.female_departures/departures_df.male_departures\n",
    "    df2 = station_list.merge(arrivals_df, how='left', right_on='end_id', left_on='station_id').reset_index(drop=True)\n",
    "    df3 = df2.merge(departures_df, how='left', right_on='start_id', left_on='station_id')\n",
    "    df4 = df3.drop(columns=[\"end_id\", 'start_id'])\n",
    "    return df4"
   ]
  },
  {
   "cell_type": "code",
   "execution_count": 7,
   "id": "8371f8ba",
   "metadata": {},
   "outputs": [],
   "source": [
    "trips_sorted = trips_by_station(df)"
   ]
  },
  {
   "cell_type": "code",
   "execution_count": 8,
   "id": "2278acd6",
   "metadata": {},
   "outputs": [],
   "source": [
    "trips_1000 = trips_sorted[trips_sorted.arrivals > 1000]"
   ]
  },
  {
   "cell_type": "code",
   "execution_count": 9,
   "id": "6d6d5e07",
   "metadata": {
    "scrolled": true
   },
   "outputs": [
    {
     "data": {
      "text/html": [
       "<div>\n",
       "<style scoped>\n",
       "    .dataframe tbody tr th:only-of-type {\n",
       "        vertical-align: middle;\n",
       "    }\n",
       "\n",
       "    .dataframe tbody tr th {\n",
       "        vertical-align: top;\n",
       "    }\n",
       "\n",
       "    .dataframe thead th {\n",
       "        text-align: right;\n",
       "    }\n",
       "</style>\n",
       "<table border=\"1\" class=\"dataframe\">\n",
       "  <thead>\n",
       "    <tr style=\"text-align: right;\">\n",
       "      <th></th>\n",
       "      <th>arrivals</th>\n",
       "      <th>arrival_trip_parity</th>\n",
       "      <th>departures</th>\n",
       "      <th>departure_trip_parity</th>\n",
       "    </tr>\n",
       "  </thead>\n",
       "  <tbody>\n",
       "    <tr>\n",
       "      <th>count</th>\n",
       "      <td>278.000000</td>\n",
       "      <td>278.000000</td>\n",
       "      <td>278.000000</td>\n",
       "      <td>278.000000</td>\n",
       "    </tr>\n",
       "    <tr>\n",
       "      <th>mean</th>\n",
       "      <td>24211.812950</td>\n",
       "      <td>0.368998</td>\n",
       "      <td>24206.446043</td>\n",
       "      <td>0.377355</td>\n",
       "    </tr>\n",
       "    <tr>\n",
       "      <th>std</th>\n",
       "      <td>27826.942056</td>\n",
       "      <td>0.100190</td>\n",
       "      <td>27411.693343</td>\n",
       "      <td>0.111478</td>\n",
       "    </tr>\n",
       "    <tr>\n",
       "      <th>min</th>\n",
       "      <td>1013.000000</td>\n",
       "      <td>0.118130</td>\n",
       "      <td>836.000000</td>\n",
       "      <td>0.137830</td>\n",
       "    </tr>\n",
       "    <tr>\n",
       "      <th>25%</th>\n",
       "      <td>4226.250000</td>\n",
       "      <td>0.301410</td>\n",
       "      <td>4271.250000</td>\n",
       "      <td>0.291582</td>\n",
       "    </tr>\n",
       "    <tr>\n",
       "      <th>50%</th>\n",
       "      <td>13237.500000</td>\n",
       "      <td>0.359660</td>\n",
       "      <td>13682.000000</td>\n",
       "      <td>0.367002</td>\n",
       "    </tr>\n",
       "    <tr>\n",
       "      <th>75%</th>\n",
       "      <td>37772.500000</td>\n",
       "      <td>0.421221</td>\n",
       "      <td>37322.750000</td>\n",
       "      <td>0.440739</td>\n",
       "    </tr>\n",
       "    <tr>\n",
       "      <th>max</th>\n",
       "      <td>184522.000000</td>\n",
       "      <td>0.673058</td>\n",
       "      <td>190922.000000</td>\n",
       "      <td>0.787037</td>\n",
       "    </tr>\n",
       "  </tbody>\n",
       "</table>\n",
       "</div>"
      ],
      "text/plain": [
       "            arrivals  arrival_trip_parity     departures  \\\n",
       "count     278.000000           278.000000     278.000000   \n",
       "mean    24211.812950             0.368998   24206.446043   \n",
       "std     27826.942056             0.100190   27411.693343   \n",
       "min      1013.000000             0.118130     836.000000   \n",
       "25%      4226.250000             0.301410    4271.250000   \n",
       "50%     13237.500000             0.359660   13682.000000   \n",
       "75%     37772.500000             0.421221   37322.750000   \n",
       "max    184522.000000             0.673058  190922.000000   \n",
       "\n",
       "       departure_trip_parity  \n",
       "count             278.000000  \n",
       "mean                0.377355  \n",
       "std                 0.111478  \n",
       "min                 0.137830  \n",
       "25%                 0.291582  \n",
       "50%                 0.367002  \n",
       "75%                 0.440739  \n",
       "max                 0.787037  "
      ]
     },
     "execution_count": 9,
     "metadata": {},
     "output_type": "execute_result"
    }
   ],
   "source": [
    "trips_1000[['arrivals', 'arrival_trip_parity', 'departures', 'departure_trip_parity']].describe()\n",
    "#data is right skewed with the mean greater than the median for trip arrivals, departures, and parity rates "
   ]
  },
  {
   "cell_type": "code",
   "execution_count": 10,
   "id": "b96e3b8e",
   "metadata": {},
   "outputs": [],
   "source": [
    "trips_sorted.to_csv('../Data_Clean/trips_sorted.csv', index=False)"
   ]
  },
  {
   "cell_type": "code",
   "execution_count": 11,
   "id": "c31f1c37",
   "metadata": {},
   "outputs": [
    {
     "data": {
      "text/plain": [
       "278"
      ]
     },
     "execution_count": 11,
     "metadata": {},
     "output_type": "execute_result"
    }
   ],
   "source": [
    "len(trips_1000)"
   ]
  },
  {
   "cell_type": "code",
   "execution_count": null,
   "id": "f73673ce",
   "metadata": {},
   "outputs": [],
   "source": [
    "trips_1000.to_csv('../Data_Clean/trips_sorted_1000.csv', index=False)"
   ]
  },
  {
   "cell_type": "markdown",
   "id": "b4c9fcb1",
   "metadata": {},
   "source": [
    "## Create geoframe for stations with 1,000 trips or more "
   ]
  },
  {
   "cell_type": "code",
   "execution_count": 12,
   "id": "157a91e3",
   "metadata": {},
   "outputs": [
    {
     "data": {
      "text/html": [
       "<div>\n",
       "<style scoped>\n",
       "    .dataframe tbody tr th:only-of-type {\n",
       "        vertical-align: middle;\n",
       "    }\n",
       "\n",
       "    .dataframe tbody tr th {\n",
       "        vertical-align: top;\n",
       "    }\n",
       "\n",
       "    .dataframe thead th {\n",
       "        text-align: right;\n",
       "    }\n",
       "</style>\n",
       "<table border=\"1\" class=\"dataframe\">\n",
       "  <thead>\n",
       "    <tr style=\"text-align: right;\">\n",
       "      <th></th>\n",
       "      <th>station id</th>\n",
       "      <th>station name</th>\n",
       "      <th>latitude</th>\n",
       "      <th>longitude</th>\n",
       "    </tr>\n",
       "  </thead>\n",
       "  <tbody>\n",
       "    <tr>\n",
       "      <th>0</th>\n",
       "      <td>115</td>\n",
       "      <td>Porter Square Station</td>\n",
       "      <td>42.387995</td>\n",
       "      <td>-71.119084</td>\n",
       "    </tr>\n",
       "    <tr>\n",
       "      <th>1</th>\n",
       "      <td>80</td>\n",
       "      <td>MIT Stata Center at Vassar St / Main St</td>\n",
       "      <td>42.362131</td>\n",
       "      <td>-71.091156</td>\n",
       "    </tr>\n",
       "    <tr>\n",
       "      <th>2</th>\n",
       "      <td>91</td>\n",
       "      <td>One Kendall Square at Hampshire St / Portland St</td>\n",
       "      <td>42.366277</td>\n",
       "      <td>-71.091690</td>\n",
       "    </tr>\n",
       "    <tr>\n",
       "      <th>3</th>\n",
       "      <td>105</td>\n",
       "      <td>Lower Cambridgeport at Magazine St / Riverside Rd</td>\n",
       "      <td>42.357219</td>\n",
       "      <td>-71.113872</td>\n",
       "    </tr>\n",
       "    <tr>\n",
       "      <th>4</th>\n",
       "      <td>88</td>\n",
       "      <td>Inman Square at Vellucci Plaza / Hampshire St</td>\n",
       "      <td>42.374035</td>\n",
       "      <td>-71.101427</td>\n",
       "    </tr>\n",
       "  </tbody>\n",
       "</table>\n",
       "</div>"
      ],
      "text/plain": [
       "   station id                                       station name   latitude  \\\n",
       "0         115                              Porter Square Station  42.387995   \n",
       "1          80            MIT Stata Center at Vassar St / Main St  42.362131   \n",
       "2          91   One Kendall Square at Hampshire St / Portland St  42.366277   \n",
       "3         105  Lower Cambridgeport at Magazine St / Riverside Rd  42.357219   \n",
       "4          88      Inman Square at Vellucci Plaza / Hampshire St  42.374035   \n",
       "\n",
       "   longitude  \n",
       "0 -71.119084  \n",
       "1 -71.091156  \n",
       "2 -71.091690  \n",
       "3 -71.113872  \n",
       "4 -71.101427  "
      ]
     },
     "execution_count": 12,
     "metadata": {},
     "output_type": "execute_result"
    }
   ],
   "source": [
    "stations.head()"
   ]
  },
  {
   "cell_type": "code",
   "execution_count": 13,
   "id": "25155aec",
   "metadata": {},
   "outputs": [],
   "source": [
    "stations_1000 = stations[stations['station id'].isin(trips_1000.station_id)]"
   ]
  },
  {
   "cell_type": "code",
   "execution_count": 14,
   "id": "f7f1e4a6",
   "metadata": {},
   "outputs": [
    {
     "data": {
      "text/plain": [
       "278"
      ]
     },
     "execution_count": 14,
     "metadata": {},
     "output_type": "execute_result"
    }
   ],
   "source": [
    "len(stations_1000)"
   ]
  },
  {
   "cell_type": "code",
   "execution_count": 15,
   "id": "654eb9a3",
   "metadata": {},
   "outputs": [],
   "source": [
    "stations_1000.to_csv('../Data_Clean/station_locations_1000.csv', index=False)"
   ]
  },
  {
   "cell_type": "code",
   "execution_count": 24,
   "id": "9a322f57",
   "metadata": {},
   "outputs": [],
   "source": [
    "stations_gdf = gpd.GeoDataFrame(stations_1000, \n",
    "                                  geometry=gpd.points_from_xy(stations_1000.longitude, stations_1000.latitude))"
   ]
  },
  {
   "cell_type": "code",
   "execution_count": 25,
   "id": "7e04598d",
   "metadata": {},
   "outputs": [
    {
     "data": {
      "text/plain": [
       "<AxesSubplot:>"
      ]
     },
     "execution_count": 25,
     "metadata": {},
     "output_type": "execute_result"
    },
    {
     "data": {
      "image/png": "[encoded data removed]",
      "text/plain": [
       "<Figure size 864x864 with 1 Axes>"
      ]
     },
     "metadata": {
      "needs_background": "light"
     },
     "output_type": "display_data"
    }
   ],
   "source": [
    "stations_gdf.plot(figsize=(12,12))"
   ]
  },
  {
   "cell_type": "code",
   "execution_count": 27,
   "id": "6e01b213",
   "metadata": {},
   "outputs": [],
   "source": [
    "stations_gdf = stations_gdf.set_crs(epsg=26986)"
   ]
  },
  {
   "cell_type": "code",
   "execution_count": 28,
   "id": "4ba68b7e",
   "metadata": {},
   "outputs": [
    {
     "data": {
      "text/plain": [
       "<AxesSubplot:>"
      ]
     },
     "execution_count": 28,
     "metadata": {},
     "output_type": "execute_result"
    },
    {
     "data": {
      "image/png": "[encoded data removed]",
      "text/plain": [
       "<Figure size 864x864 with 1 Axes>"
      ]
     },
     "metadata": {
      "needs_background": "light"
     },
     "output_type": "display_data"
    }
   ],
   "source": [
    "stations_gdf.plot(figsize=(12,12))"
   ]
  },
  {
   "cell_type": "code",
   "execution_count": 29,
   "id": "91913590",
   "metadata": {},
   "outputs": [
    {
     "name": "stderr",
     "output_type": "stream",
     "text": [
      "C:\\Users\\casey\\AppData\\Local\\Temp\\ipykernel_13524\\2888403990.py:1: UserWarning: Column names longer than 10 characters will be truncated when saved to ESRI Shapefile.\n",
      "  stations_gdf.to_file(\"../Data_Clean/station_locations.shp\")\n"
     ]
    }
   ],
   "source": [
    "stations_gdf.to_file(\"../Data_Clean/station_locations.shp\")"
   ]
  },
  {
   "cell_type": "markdown",
   "id": "e9096aad",
   "metadata": {},
   "source": [
    "### Create dataframe with trips only at 278 stations"
   ]
  },
  {
   "cell_type": "code",
   "execution_count": 45,
   "id": "1cedeecd",
   "metadata": {},
   "outputs": [],
   "source": [
    "#create new trips df for stations with 1000+ trips \n",
    "trips = df[df.start_id.isin(station_list.station_id)]"
   ]
  },
  {
   "cell_type": "code",
   "execution_count": 46,
   "id": "a34033f3",
   "metadata": {},
   "outputs": [],
   "source": [
    "trips.to_csv('../Data_Clean/trips_cleaned_1000.csv', index=False)"
   ]
  },
  {
   "cell_type": "code",
   "execution_count": 24,
   "id": "245407f8",
   "metadata": {},
   "outputs": [
    {
     "data": {
      "text/plain": [
       "450"
      ]
     },
     "execution_count": 24,
     "metadata": {},
     "output_type": "execute_result"
    }
   ],
   "source": [
    "len(df)-len(trips)"
   ]
  }
 ],
 "metadata": {
  "kernelspec": {
   "display_name": "Python 3 (ipykernel)",
   "language": "python",
   "name": "python3"
  },
  "language_info": {
   "codemirror_mode": {
    "name": "ipython",
    "version": 3
   },
   "file_extension": ".py",
   "mimetype": "text/x-python",
   "name": "python",
   "nbconvert_exporter": "python",
   "pygments_lexer": "ipython3",
   "version": "3.9.12"
  }
 },
 "nbformat": 4,
 "nbformat_minor": 5
}
